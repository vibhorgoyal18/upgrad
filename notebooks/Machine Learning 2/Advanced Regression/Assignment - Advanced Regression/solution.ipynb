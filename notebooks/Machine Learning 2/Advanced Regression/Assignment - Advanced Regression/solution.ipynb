{
 "cells": [
  {
   "cell_type": "markdown",
   "source": [
    "A US-based housing company named Surprise Housing has decided to enter the Australian market. The company uses data analytics to purchase houses at a price below their actual values and flip them on at a higher price. For the same purpose, the company has collected a data set from the sale of houses in Australia. The data is provided in the CSV file below.\n",
    "\n",
    " \n",
    "\n",
    "The company is looking at prospective properties to buy to enter the market. You are required to build a regression model using regularisation in order to predict the actual value of the prospective properties and decide whether to invest in them or not.\n",
    "\n",
    " \n",
    "\n",
    "The company wants to know:\n",
    "\n",
    "1. Which variables are significant in predicting the price of a house, and\n",
    "\n",
    "2. How well those variables describe the price of a house.\n",
    "\n",
    "Also, determine the optimal value of lambda for ridge and lasso regression.\n",
    "\n",
    "### Business Goal \n",
    "\n",
    "You are required to model the price of houses with the available independent variables. This model will then be used by the management to understand how exactly the prices vary with the variables. They can accordingly manipulate the strategy of the firm and concentrate on areas that will yield high returns. Further, the model will be a good way for management to understand the pricing dynamics of a new market."
   ],
   "metadata": {
    "collapsed": false
   }
  },
  {
   "cell_type": "code",
   "execution_count": null,
   "outputs": [],
   "source": [
    "import warnings\n",
    "warnings.filterwarnings('ignore')"
   ],
   "metadata": {
    "collapsed": false,
    "pycharm": {
     "name": "#%%\n"
    }
   }
  },
  {
   "cell_type": "code",
   "execution_count": null,
   "outputs": [],
   "source": [
    "import pandas as pd\n",
    "import numpy as np\n",
    "import matplotlib.pyplot as plt\n",
    "import seaborn as sns\n",
    "from sklearn.feature_selection import RFE\n",
    "from sklearn.linear_model import LinearRegression\n",
    "from sklearn.model_selection import train_test_split\n",
    "from sklearn.preprocessing import StandardScaler\n",
    "import statsmodels.api as sm\n",
    "from statsmodels.stats.outliers_influence import variance_inflation_factor\n",
    "from sklearn.metrics import mean_squared_error\n",
    "from sklearn.metrics import r2_score\n",
    "from sklearn.linear_model import Lasso\n",
    "from sklearn.linear_model import Ridge\n",
    "from sklearn.model_selection import GridSearchCV\n",
    "from sklearn.model_selection import KFold\n",
    "pd.set_option('display.max_columns', None) \n",
    "pd.set_option(\"display.max_rows\", 100)"
   ],
   "metadata": {
    "collapsed": false,
    "pycharm": {
     "name": "#%%\n"
    }
   }
  },
  {
   "cell_type": "markdown",
   "source": [
    "### Reading the data"
   ],
   "metadata": {
    "collapsed": false
   }
  },
  {
   "cell_type": "code",
   "execution_count": null,
   "outputs": [],
   "source": [
    "house_df = pd.read_csv('train.csv')\n",
    "house_df_copy = house_df.copy()\n",
    "house_df.head()\n",
    "house_df.BedroomAbvGr.unique()"
   ],
   "metadata": {
    "collapsed": false,
    "pycharm": {
     "name": "#%%\n"
    }
   }
  },
  {
   "cell_type": "markdown",
   "source": [
    "### Visualising and cleaning data"
   ],
   "metadata": {
    "collapsed": false
   }
  },
  {
   "cell_type": "markdown",
   "source": [
    "#### Checking the numerical value relationships"
   ],
   "metadata": {
    "collapsed": false
   }
  },
  {
   "cell_type": "code",
   "execution_count": null,
   "outputs": [],
   "source": [
    "plt.figure(figsize=(30, 15))\n",
    "sns.heatmap(\n",
    "    house_df.corr(), annot=True, cmap=\"YlGnBu\",\n",
    ")"
   ],
   "metadata": {
    "collapsed": false,
    "pycharm": {
     "name": "#%%\n"
    }
   }
  },
  {
   "cell_type": "markdown",
   "source": [
    "#### Checking data types"
   ],
   "metadata": {
    "collapsed": false
   }
  },
  {
   "cell_type": "code",
   "execution_count": null,
   "outputs": [],
   "source": [
    "house_df.dtypes"
   ],
   "metadata": {
    "collapsed": false,
    "pycharm": {
     "name": "#%%\n"
    }
   }
  },
  {
   "cell_type": "markdown",
   "source": [
    "#### Checking for duplicate rows"
   ],
   "metadata": {
    "collapsed": false
   }
  },
  {
   "cell_type": "code",
   "execution_count": null,
   "outputs": [],
   "source": [
    "house_df[house_df.duplicated()]"
   ],
   "metadata": {
    "collapsed": false,
    "pycharm": {
     "name": "#%%\n"
    }
   }
  },
  {
   "cell_type": "markdown",
   "source": [
    "#### Remove columns having single unique value as they will not give value for our analysis\n"
   ],
   "metadata": {
    "collapsed": false
   }
  },
  {
   "cell_type": "code",
   "execution_count": null,
   "outputs": [],
   "source": [
    "house_df = house_df[\n",
    "    [column for column in list(house_df) if house_df[column].nunique() > 1]\n",
    "]\n",
    "len(house_df.columns)"
   ],
   "metadata": {
    "collapsed": false,
    "pycharm": {
     "name": "#%%\n"
    }
   }
  },
  {
   "cell_type": "markdown",
   "source": [
    "#### Checking null percent of columns"
   ],
   "metadata": {
    "collapsed": false
   }
  },
  {
   "cell_type": "code",
   "execution_count": null,
   "outputs": [],
   "source": [
    "house_df.isnull().sum() / len(house_df) *100"
   ],
   "metadata": {
    "collapsed": false,
    "pycharm": {
     "name": "#%%\n"
    }
   }
  },
  {
   "cell_type": "markdown",
   "source": [
    "#### Replacing nulls with default values"
   ],
   "metadata": {
    "collapsed": false
   }
  },
  {
   "cell_type": "code",
   "execution_count": null,
   "outputs": [],
   "source": [
    "house_df.Fence.fillna('NA', inplace=True)\n",
    "house_df.FireplaceQu.fillna('NA', inplace=True)\n",
    "house_df.LotFrontage.fillna(house_df.LotFrontage.median(), inplace=True)"
   ],
   "metadata": {
    "collapsed": false,
    "pycharm": {
     "name": "#%%\n"
    }
   }
  },
  {
   "cell_type": "code",
   "execution_count": null,
   "outputs": [],
   "source": [
    "# List of Columns & NA counts where NA values are more than 30%\n",
    "NA_columns = house_df.isnull().sum()\n",
    "NA_columns = NA_columns[NA_columns.values >= (0.3 * len(house_df))].index\n",
    "house_df.drop(labels=NA_columns, axis=1, inplace=True)\n",
    "# Removing id column as it is not important\n",
    "house_df.drop('Id', inplace=True, axis=1)\n",
    "house_df.drop('MoSold', inplace=True, axis=1)\n",
    "house_df.shape\n"
   ],
   "metadata": {
    "collapsed": false,
    "pycharm": {
     "name": "#%%\n"
    }
   }
  },
  {
   "cell_type": "markdown",
   "source": [
    "#### Removing rows with null values"
   ],
   "metadata": {
    "collapsed": false
   }
  },
  {
   "cell_type": "code",
   "execution_count": null,
   "outputs": [],
   "source": [
    "\n",
    "house_df.dropna(inplace=True)\n",
    "house_df.shape"
   ],
   "metadata": {
    "collapsed": false,
    "pycharm": {
     "name": "#%%\n"
    }
   }
  },
  {
   "cell_type": "markdown",
   "source": [
    "#### Converting year to age"
   ],
   "metadata": {
    "collapsed": false
   }
  },
  {
   "cell_type": "code",
   "execution_count": null,
   "outputs": [],
   "source": [
    "house_df['Age'] = 2020 - house_df.YearBuilt\n",
    "house_df['RemodAge'] = 2020 - house_df.YearRemodAdd\n",
    "house_df['SoldAge'] = 2020 - house_df.YrSold\n",
    "house_df.drop(['YearBuilt', 'YearRemodAdd', 'YrSold'], axis=1, inplace=True)"
   ],
   "metadata": {
    "collapsed": false,
    "pycharm": {
     "name": "#%%\n"
    }
   }
  },
  {
   "cell_type": "markdown",
   "source": [
    "#### Removing outliers"
   ],
   "metadata": {
    "collapsed": false
   }
  },
  {
   "cell_type": "code",
   "execution_count": null,
   "outputs": [],
   "source": [
    "house_df = house_df[(house_df[\"LotArea\"] < house_df[\"LotArea\"].quantile(0.95))]\n",
    "house_df = house_df[(house_df[\"LotFrontage\"] < house_df[\"LotFrontage\"].quantile(0.996))]\n",
    "house_df = house_df[(house_df[\"MasVnrArea\"] < house_df[\"MasVnrArea\"].quantile(0.95))]\n",
    "house_df = house_df[(house_df[\"BsmtFinSF1\"] < house_df[\"BsmtFinSF1\"].quantile(0.98))]\n",
    "house_df = house_df[(house_df[\"2ndFlrSF\"] < house_df[\"2ndFlrSF\"].quantile(0.99))]\n",
    "house_df = house_df[(house_df[\"SalePrice\"] < house_df[\"SalePrice\"].quantile(0.99))]"
   ],
   "metadata": {
    "collapsed": false,
    "pycharm": {
     "name": "#%%\n"
    }
   }
  },
  {
   "cell_type": "code",
   "execution_count": null,
   "outputs": [],
   "source": [
    "house_df.describe()"
   ],
   "metadata": {
    "collapsed": false,
    "pycharm": {
     "name": "#%%\n"
    }
   }
  },
  {
   "cell_type": "markdown",
   "source": [
    "#### Creating dummy variables"
   ],
   "metadata": {
    "collapsed": false
   }
  },
  {
   "cell_type": "code",
   "execution_count": null,
   "outputs": [],
   "source": [
    "def create_dummy_variable(df, column):\n",
    "    dummy_df = pd.get_dummies(df[column], drop_first=True)\n",
    "    dummy_column_names = []\n",
    "    for category in dummy_df.columns:\n",
    "        dummy_column_names.append(str(column)+ '_'+str(category))\n",
    "    dummy_df.columns = dummy_column_names\n",
    "    df = pd.concat([df, dummy_df], axis=1)\n",
    "    df = df.drop(column, axis=1)\n",
    "    return df, dummy_df"
   ],
   "metadata": {
    "collapsed": false,
    "pycharm": {
     "name": "#%%\n"
    }
   }
  },
  {
   "cell_type": "code",
   "execution_count": null,
   "outputs": [],
   "source": [
    "categorical_variables = ['MSSubClass', 'MSZoning', 'Street', 'Alley', 'LotShape', 'LandContour', 'Utilities', 'LotConfig', 'LandSlope', 'Neighborhood', 'Condition1', 'Condition2', 'BldgType', 'HouseStyle', 'RoofStyle', 'RoofMatl', 'Exterior1st', 'Exterior2nd', 'MasVnrType', 'ExterQual', 'ExterCond', 'Foundation', 'BsmtQual', 'BsmtCond', 'BsmtExposure', 'BsmtFinType1', 'BsmtFinType2', 'Heating', 'HeatingQC', 'CentralAir', 'Electrical', 'KitchenQual', 'Functional', 'FireplaceQu', 'GarageType', 'GarageFinish', 'GarageQual', 'GarageCond', 'PavedDrive', 'PoolQC', 'Fence', 'MiscFeature', 'SaleType', 'SaleCondition']"
   ],
   "metadata": {
    "collapsed": false,
    "pycharm": {
     "name": "#%%\n"
    }
   }
  },
  {
   "cell_type": "code",
   "execution_count": null,
   "outputs": [],
   "source": [
    "# Removing column names from categorical variables which have been already removed from \n",
    "categorical_variables_temp = categorical_variables.copy()\n",
    "for column in categorical_variables_temp:\n",
    "    if column not in house_df.columns:\n",
    "        categorical_variables.remove(column)\n",
    "        print('removed: ' + column)"
   ],
   "metadata": {
    "collapsed": false,
    "pycharm": {
     "name": "#%%\n"
    }
   }
  },
  {
   "cell_type": "markdown",
   "source": [
    "#### Creating dummy variables from categorical variables"
   ],
   "metadata": {
    "collapsed": false
   }
  },
  {
   "cell_type": "code",
   "execution_count": null,
   "outputs": [],
   "source": [
    "for column in categorical_variables:\n",
    "    house_df, df_dummy = create_dummy_variable(house_df, column)"
   ],
   "metadata": {
    "collapsed": false,
    "pycharm": {
     "name": "#%%\n"
    }
   }
  },
  {
   "cell_type": "markdown",
   "source": [
    "### Model Building"
   ],
   "metadata": {
    "collapsed": false
   }
  },
  {
   "cell_type": "markdown",
   "source": [
    "#### Creating test train data"
   ],
   "metadata": {
    "collapsed": false
   }
  },
  {
   "cell_type": "code",
   "execution_count": null,
   "outputs": [],
   "source": [
    "y = house_df.loc[:, 'SalePrice']\n",
    "X = house_df.loc[:, house_df.columns != 'SalePrice']\n",
    "\n",
    "# scale\n",
    "scaler = StandardScaler()\n",
    "scaler.fit(X)\n",
    "\n",
    "# split\n",
    "X_train, X_test, y_train, y_test = train_test_split(X, y, \n",
    "                                                    test_size = 0.2, \n",
    "                                                    random_state = 1)"
   ],
   "metadata": {
    "collapsed": false,
    "pycharm": {
     "name": "#%%\n"
    }
   }
  },
  {
   "cell_type": "code",
   "execution_count": null,
   "outputs": [],
   "source": [
    "lm = LinearRegression()\n",
    "lm.fit(X_train, y_train)\n",
    "\n",
    "rfe = RFE(lm, 100)\n",
    "\n",
    "rfe = rfe.fit(X_train, y_train)"
   ],
   "metadata": {
    "collapsed": false,
    "pycharm": {
     "name": "#%%\n"
    }
   }
  },
  {
   "cell_type": "code",
   "execution_count": null,
   "outputs": [],
   "source": [
    "# Columns filtered by RFE\n",
    "cols = X_train.columns[rfe.support_]"
   ],
   "metadata": {
    "collapsed": false,
    "pycharm": {
     "name": "#%%\n"
    }
   }
  },
  {
   "cell_type": "markdown",
   "source": [
    "#### Training model using Lasso"
   ],
   "metadata": {
    "collapsed": false
   }
  },
  {
   "cell_type": "code",
   "execution_count": null,
   "outputs": [],
   "source": [
    "# grid search CV\n",
    "\n",
    "# set up cross validation scheme\n",
    "folds = KFold(n_splits = 5, shuffle = True, random_state = 4)\n",
    "\n",
    "# specify range of hyperparameters\n",
    "params = {'alpha': [0.001, 0.01, 1.0, 5.0, 10.0, 100.0, 500.0, 1000.0]}\n",
    "\n",
    "# grid search\n",
    "# lasso model\n",
    "model = Lasso()\n",
    "model_cv = GridSearchCV(estimator = model, param_grid = params, \n",
    "                        scoring= 'r2', \n",
    "                        cv = folds, \n",
    "                        return_train_score=True, verbose = 1)            \n",
    "model_cv.fit(X_train[cols], y_train) "
   ],
   "metadata": {
    "collapsed": false,
    "pycharm": {
     "name": "#%%\n"
    }
   }
  },
  {
   "cell_type": "code",
   "execution_count": null,
   "outputs": [],
   "source": [
    "print(model_cv.best_params_)\n",
    "print(model_cv.best_score_)"
   ],
   "metadata": {
    "collapsed": false,
    "pycharm": {
     "name": "#%%\n"
    }
   }
  },
  {
   "cell_type": "code",
   "execution_count": null,
   "outputs": [],
   "source": [
    "cv_results = pd.DataFrame(model_cv.cv_results_)\n",
    "cv_results.T"
   ],
   "metadata": {
    "collapsed": false,
    "pycharm": {
     "name": "#%%\n"
    }
   }
  },
  {
   "cell_type": "markdown",
   "source": [
    "##### Both in test and train score, variation seems to be least when alpha's value is 10"
   ],
   "metadata": {
    "collapsed": false
   }
  },
  {
   "cell_type": "code",
   "execution_count": null,
   "outputs": [],
   "source": [
    "# plot\n",
    "cv_results['param_alpha'] = cv_results['param_alpha'].astype('float32')\n",
    "plt.plot(cv_results['param_alpha'], cv_results['mean_train_score'])\n",
    "plt.plot(cv_results['param_alpha'], cv_results['mean_test_score'])\n",
    "plt.xlabel('alpha')\n",
    "plt.ylabel('r2 score')\n",
    "plt.xscale('log')\n",
    "plt.show()"
   ],
   "metadata": {
    "collapsed": false,
    "pycharm": {
     "name": "#%%\n"
    }
   }
  },
  {
   "cell_type": "code",
   "execution_count": null,
   "outputs": [],
   "source": [
    "# model with optimal alpha\n",
    "# lasso regression\n",
    "lm = Lasso(alpha=10)\n",
    "lm.fit(X_train[cols], y_train)\n",
    "\n",
    "# predict\n",
    "y_train_pred = lm.predict(X_train[cols])\n",
    "print(r2_score(y_true=y_train, y_pred=y_train_pred))\n",
    "y_test_pred = lm.predict(X_test[cols])\n",
    "print(r2_score(y_true=y_test, y_pred=y_test_pred))"
   ],
   "metadata": {
    "collapsed": false,
    "pycharm": {
     "name": "#%%\n"
    }
   }
  },
  {
   "cell_type": "code",
   "execution_count": null,
   "outputs": [],
   "source": [
    "# lasso model parameters\n",
    "model_parameters = list(lm.coef_)\n",
    "model_parameters.insert(0, lm.intercept_)\n",
    "model_parameters = [round(x, 3) for x in model_parameters]\n",
    "cols = X.columns\n",
    "cols = cols.insert(0, \"constant\")\n",
    "parameters_list = list(zip(cols, model_parameters))"
   ],
   "metadata": {
    "collapsed": false,
    "pycharm": {
     "name": "#%%\n"
    }
   }
  },
  {
   "cell_type": "code",
   "execution_count": null,
   "outputs": [],
   "source": [
    "parameters_list = [parameter for parameter in parameters_list if parameter[1] != 0]"
   ],
   "metadata": {
    "collapsed": false,
    "pycharm": {
     "name": "#%%\n"
    }
   }
  },
  {
   "cell_type": "code",
   "execution_count": null,
   "outputs": [],
   "source": [
    "parameter_df = pd.DataFrame(parameters_list, columns=['variable', 'factor'])\n",
    "parameter_df = parameter_df.sort_values(by='factor', ascending=False).set_index('variable')\n",
    "parameter_df = parameter_df[parameter_df.index != 'constant']\n",
    "parameter_df"
   ],
   "metadata": {
    "collapsed": false,
    "pycharm": {
     "name": "#%%\n"
    }
   }
  },
  {
   "cell_type": "markdown",
   "source": [
    "### The above vales defines the top predictors that can be used to predict the values of the house. A `positive factor` indicates that the `Sales Price` of house will `rise` factor number of times if the value of variable is increased by one and a `negative factor` indicates that the `Sales Price` will `decrease` factor number of times if variable is increased by one.\n",
    "\n",
    "`Note`: Variable with underscore means:\n",
    "name before underscore is property type and name after underscore is property name"
   ],
   "metadata": {
    "collapsed": false
   }
  },
  {
   "cell_type": "markdown",
   "source": [
    "#### Creating test train data"
   ],
   "metadata": {
    "collapsed": false
   }
  },
  {
   "cell_type": "code",
   "execution_count": null,
   "outputs": [],
   "source": [
    "y = house_df.loc[:, 'SalePrice']\n",
    "X = house_df.loc[:, house_df.columns != 'SalePrice']\n",
    "\n",
    "# scale\n",
    "scaler = StandardScaler()\n",
    "scaler.fit(X)\n",
    "\n",
    "# split\n",
    "X_train, X_test, y_train, y_test = train_test_split(X, y, \n",
    "                                                    test_size = 0.2, \n",
    "                                                    random_state = 1)"
   ],
   "metadata": {
    "collapsed": false,
    "pycharm": {
     "name": "#%%\n"
    }
   }
  },
  {
   "cell_type": "code",
   "execution_count": null,
   "outputs": [],
   "source": [
    "lm = LinearRegression()\n",
    "lm.fit(X_train, y_train)\n",
    "\n",
    "rfe = RFE(lm, 100)\n",
    "\n",
    "rfe = rfe.fit(X_train, y_train)"
   ],
   "metadata": {
    "collapsed": false,
    "pycharm": {
     "name": "#%%\n"
    }
   }
  },
  {
   "cell_type": "code",
   "execution_count": null,
   "outputs": [],
   "source": [
    "# Columns filtered by RFE\n",
    "cols = X_train.columns[rfe.support_]"
   ],
   "metadata": {
    "collapsed": false,
    "pycharm": {
     "name": "#%%\n"
    }
   }
  },
  {
   "cell_type": "markdown",
   "source": [
    "#### Training model using Ridge"
   ],
   "metadata": {
    "collapsed": false
   }
  },
  {
   "cell_type": "code",
   "execution_count": null,
   "outputs": [],
   "source": [
    "# grid search CV\n",
    "\n",
    "# set up cross validation scheme\n",
    "folds = KFold(n_splits = 5, shuffle = True, random_state = 4)\n",
    "\n",
    "# specify range of hyperparameters\n",
    "params = {'alpha': [0.001, 0.01, 1.0, 5.0, 10.0, 100.0, 500.0, 1000.0]}\n",
    "\n",
    "# grid search\n",
    "# lasso model\n",
    "model = Ridge()\n",
    "model_cv = GridSearchCV(estimator = model, param_grid = params, \n",
    "                        scoring= 'r2', \n",
    "                        cv = folds, \n",
    "                        return_train_score=True, verbose = 1)            \n",
    "model_cv.fit(X_train[cols], y_train) "
   ],
   "metadata": {
    "collapsed": false,
    "pycharm": {
     "name": "#%%\n"
    }
   }
  },
  {
   "cell_type": "code",
   "execution_count": null,
   "outputs": [],
   "source": [
    "print(model_cv.best_params_)\n",
    "print(model_cv.best_score_)"
   ],
   "metadata": {
    "collapsed": false,
    "pycharm": {
     "name": "#%%\n"
    }
   }
  },
  {
   "cell_type": "code",
   "execution_count": null,
   "outputs": [],
   "source": [
    "cv_results = pd.DataFrame(model_cv.cv_results_)\n",
    "cv_results.T"
   ],
   "metadata": {
    "collapsed": false,
    "pycharm": {
     "name": "#%%\n"
    }
   }
  },
  {
   "cell_type": "markdown",
   "source": [
    "##### Both in test and train score, variation seems to be least when alpha's value is 100"
   ],
   "metadata": {
    "collapsed": false
   }
  },
  {
   "cell_type": "code",
   "execution_count": null,
   "outputs": [],
   "source": [
    "# plot\n",
    "cv_results['param_alpha'] = cv_results['param_alpha'].astype('float32')\n",
    "plt.plot(cv_results['param_alpha'], cv_results['mean_train_score'])\n",
    "plt.plot(cv_results['param_alpha'], cv_results['mean_test_score'])\n",
    "plt.xlabel('alpha')\n",
    "plt.ylabel('r2 score')\n",
    "plt.xscale('log')\n",
    "plt.show()"
   ],
   "metadata": {
    "collapsed": false,
    "pycharm": {
     "name": "#%%\n"
    }
   }
  },
  {
   "cell_type": "code",
   "execution_count": null,
   "outputs": [],
   "source": [
    "# model with optimal alpha\n",
    "# ridge regression\n",
    "lm = Ridge(alpha=2)\n",
    "lm.fit(X_train[cols], y_train)\n",
    "\n",
    "# predict\n",
    "y_train_pred = lm.predict(X_train[cols])\n",
    "print(r2_score(y_true=y_train, y_pred=y_train_pred))\n",
    "y_test_pred = lm.predict(X_test[cols])\n",
    "print(r2_score(y_true=y_test, y_pred=y_test_pred))"
   ],
   "metadata": {
    "collapsed": false,
    "pycharm": {
     "name": "#%%\n"
    }
   }
  },
  {
   "cell_type": "code",
   "execution_count": null,
   "outputs": [],
   "source": [
    "# ridge model parameters\n",
    "model_parameters = list(lm.coef_)\n",
    "model_parameters.insert(0, lm.intercept_)\n",
    "model_parameters = [round(x, 3) for x in model_parameters]\n",
    "cols = X.columns\n",
    "cols = cols.insert(0, \"constant\")\n",
    "parameters_list = list(zip(cols, model_parameters))"
   ],
   "metadata": {
    "collapsed": false,
    "pycharm": {
     "name": "#%%\n"
    }
   }
  },
  {
   "cell_type": "code",
   "execution_count": null,
   "outputs": [],
   "source": [
    "parameters_list = [parameter for parameter in parameters_list if parameter[1] != 0]"
   ],
   "metadata": {
    "collapsed": false,
    "pycharm": {
     "name": "#%%\n"
    }
   }
  },
  {
   "cell_type": "code",
   "execution_count": null,
   "outputs": [],
   "source": [
    "parameter_df = pd.DataFrame(parameters_list, columns=['variable', 'factor'])\n",
    "parameter_df = parameter_df.sort_values(by='factor', ascending=False).set_index('variable')\n",
    "parameter_df = parameter_df[parameter_df.index != 'constant']\n",
    "parameter_df"
   ],
   "metadata": {
    "collapsed": false,
    "pycharm": {
     "name": "#%%\n"
    }
   }
  },
  {
   "cell_type": "markdown",
   "source": [
    "### The above vales defines the top predictors that can be used to predict the values of the house. A `positive factor` indicates that the `Sales Price` of house will `rise` factor number of times if the value of variable is increased by one and a `negative factor` indicates that the `Sales Price` will `decrease` factor number of times if variable is increased by one.\n",
    "\n",
    "`Note`: Variable with underscore means:\n",
    "name before underscore is property type and name after underscore is property name"
   ],
   "metadata": {
    "collapsed": false
   }
  },
  {
   "cell_type": "code",
   "execution_count": null,
   "outputs": [],
   "source": [],
   "metadata": {
    "collapsed": false,
    "pycharm": {
     "name": "#%%\n"
    }
   }
  }
 ],
 "metadata": {
  "kernelspec": {
   "display_name": "Python 3",
   "language": "python",
   "name": "python3"
  },
  "language_info": {
   "codemirror_mode": {
    "name": "ipython",
    "version": 3
   },
   "file_extension": ".py",
   "mimetype": "text/x-python",
   "name": "python",
   "nbconvert_exporter": "python",
   "pygments_lexer": "ipython3",
   "version": "3.7.6"
  }
 },
 "nbformat": 4,
 "nbformat_minor": 2
}