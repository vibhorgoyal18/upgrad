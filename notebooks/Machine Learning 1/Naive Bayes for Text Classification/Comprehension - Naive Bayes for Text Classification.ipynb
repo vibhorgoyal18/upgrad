{
 "cells": [
  {
   "cell_type": "markdown",
   "metadata": {},
   "source": [
    "### Consider the set of documents tabulated below. There are 5 training documents. Answer following questions based on this table. Documents have been indexed starting from 0 to match the indexing style of python."
   ]
  },
  {
   "cell_type": "markdown",
   "metadata": {},
   "source": [
    "<table border=\"1\"><colgroup><col><col><col></colgroup><tbody><tr><td><p dir=\"ltr\">Doc.No.</p></td><td><p dir=\"ltr\">Document</p></td><td><p dir=\"ltr\">Class</p></td></tr><tr><td><p dir=\"ltr\">0</p></td><td><p dir=\"ltr\">Coffee Tea &nbsp;Soup Coffee Coffee</p></td><td><p dir=\"ltr\">Hot</p></td></tr><tr><td><p dir=\"ltr\">1</p></td><td><p dir=\"ltr\">Coffee is hot and so is Soup &nbsp;and Tea</p></td><td><p dir=\"ltr\">Hot</p></td></tr><tr><td><p dir=\"ltr\">2</p></td><td><p dir=\"ltr\">Espresso is a hot Coffee &nbsp;and not a Tea</p></td><td><p dir=\"ltr\">Hot</p></td></tr><tr><td><p dir=\"ltr\">3</p></td><td><p dir=\"ltr\">Coffee is neither Tea nor Soup</p></td><td><p dir=\"ltr\">Hot</p></td></tr><tr><td><p dir=\"ltr\">4</p></td><td><p dir=\"ltr\">Sprite Pepsi &nbsp;Cold Coffee and cold Tea</p></td><td><p dir=\"ltr\">Cold</p></td></tr></tbody></table>"
   ]
  },
  {
   "cell_type": "code",
   "execution_count": 60,
   "metadata": {},
   "outputs": [],
   "source": [
    "import pandas as pd\n",
    "from sklearn.model_selection  import train_test_split\n",
    "from sklearn.feature_extraction.text import CountVectorizer"
   ]
  },
  {
   "cell_type": "code",
   "execution_count": 61,
   "metadata": {},
   "outputs": [
    {
     "data": {
      "text/html": [
       "<div>\n",
       "<style scoped>\n",
       "    .dataframe tbody tr th:only-of-type {\n",
       "        vertical-align: middle;\n",
       "    }\n",
       "\n",
       "    .dataframe tbody tr th {\n",
       "        vertical-align: top;\n",
       "    }\n",
       "\n",
       "    .dataframe thead th {\n",
       "        text-align: right;\n",
       "    }\n",
       "</style>\n",
       "<table border=\"1\" class=\"dataframe\">\n",
       "  <thead>\n",
       "    <tr style=\"text-align: right;\">\n",
       "      <th></th>\n",
       "      <th>Document</th>\n",
       "      <th>Class</th>\n",
       "    </tr>\n",
       "    <tr>\n",
       "      <th>Doc.No.</th>\n",
       "      <th></th>\n",
       "      <th></th>\n",
       "    </tr>\n",
       "  </thead>\n",
       "  <tbody>\n",
       "    <tr>\n",
       "      <th>0</th>\n",
       "      <td>Coffee Tea  Soup Coffee Coffee</td>\n",
       "      <td>Hot</td>\n",
       "    </tr>\n",
       "    <tr>\n",
       "      <th>1</th>\n",
       "      <td>Coffee is hot and so is Soup  and Tea</td>\n",
       "      <td>Hot</td>\n",
       "    </tr>\n",
       "    <tr>\n",
       "      <th>2</th>\n",
       "      <td>Espresso is a hot Coffee  and not a Tea</td>\n",
       "      <td>Hot</td>\n",
       "    </tr>\n",
       "    <tr>\n",
       "      <th>3</th>\n",
       "      <td>Coffee is neither Tea nor Soup</td>\n",
       "      <td>Hot</td>\n",
       "    </tr>\n",
       "    <tr>\n",
       "      <th>4</th>\n",
       "      <td>Sprite Pepsi  Cold Coffee and cold Tea</td>\n",
       "      <td>Cold</td>\n",
       "    </tr>\n",
       "  </tbody>\n",
       "</table>\n",
       "</div>"
      ],
      "text/plain": [
       "                                        Document Class\n",
       "Doc.No.                                               \n",
       "0                 Coffee Tea  Soup Coffee Coffee   Hot\n",
       "1          Coffee is hot and so is Soup  and Tea   Hot\n",
       "2        Espresso is a hot Coffee  and not a Tea   Hot\n",
       "3                 Coffee is neither Tea nor Soup   Hot\n",
       "4         Sprite Pepsi  Cold Coffee and cold Tea  Cold"
      ]
     },
     "execution_count": 61,
     "metadata": {},
     "output_type": "execute_result"
    }
   ],
   "source": [
    "data_frame = pd.read_excel('Hot_Cold.xlsx', index_col='Doc.No.')\n",
    "data_frame.head()"
   ]
  },
  {
   "cell_type": "code",
   "execution_count": 62,
   "metadata": {},
   "outputs": [],
   "source": [
    "# mapping labels to 0 and 1\n",
    "data_frame['label'] = docs.Class.map({'Hot':0, 'Cold':1})"
   ]
  },
  {
   "cell_type": "code",
   "execution_count": 63,
   "metadata": {},
   "outputs": [
    {
     "data": {
      "text/html": [
       "<div>\n",
       "<style scoped>\n",
       "    .dataframe tbody tr th:only-of-type {\n",
       "        vertical-align: middle;\n",
       "    }\n",
       "\n",
       "    .dataframe tbody tr th {\n",
       "        vertical-align: top;\n",
       "    }\n",
       "\n",
       "    .dataframe thead th {\n",
       "        text-align: right;\n",
       "    }\n",
       "</style>\n",
       "<table border=\"1\" class=\"dataframe\">\n",
       "  <thead>\n",
       "    <tr style=\"text-align: right;\">\n",
       "      <th></th>\n",
       "      <th>Document</th>\n",
       "      <th>Class</th>\n",
       "      <th>label</th>\n",
       "    </tr>\n",
       "    <tr>\n",
       "      <th>Doc.No.</th>\n",
       "      <th></th>\n",
       "      <th></th>\n",
       "      <th></th>\n",
       "    </tr>\n",
       "  </thead>\n",
       "  <tbody>\n",
       "    <tr>\n",
       "      <th>0</th>\n",
       "      <td>Coffee Tea  Soup Coffee Coffee</td>\n",
       "      <td>Hot</td>\n",
       "      <td>0</td>\n",
       "    </tr>\n",
       "    <tr>\n",
       "      <th>1</th>\n",
       "      <td>Coffee is hot and so is Soup  and Tea</td>\n",
       "      <td>Hot</td>\n",
       "      <td>0</td>\n",
       "    </tr>\n",
       "    <tr>\n",
       "      <th>2</th>\n",
       "      <td>Espresso is a hot Coffee  and not a Tea</td>\n",
       "      <td>Hot</td>\n",
       "      <td>0</td>\n",
       "    </tr>\n",
       "    <tr>\n",
       "      <th>3</th>\n",
       "      <td>Coffee is neither Tea nor Soup</td>\n",
       "      <td>Hot</td>\n",
       "      <td>0</td>\n",
       "    </tr>\n",
       "    <tr>\n",
       "      <th>4</th>\n",
       "      <td>Sprite Pepsi  Cold Coffee and cold Tea</td>\n",
       "      <td>Cold</td>\n",
       "      <td>1</td>\n",
       "    </tr>\n",
       "  </tbody>\n",
       "</table>\n",
       "</div>"
      ],
      "text/plain": [
       "                                        Document Class  label\n",
       "Doc.No.                                                      \n",
       "0                 Coffee Tea  Soup Coffee Coffee   Hot      0\n",
       "1          Coffee is hot and so is Soup  and Tea   Hot      0\n",
       "2        Espresso is a hot Coffee  and not a Tea   Hot      0\n",
       "3                 Coffee is neither Tea nor Soup   Hot      0\n",
       "4         Sprite Pepsi  Cold Coffee and cold Tea  Cold      1"
      ]
     },
     "execution_count": 63,
     "metadata": {},
     "output_type": "execute_result"
    }
   ],
   "source": [
    "data_frame.head()"
   ]
  },
  {
   "cell_type": "code",
   "execution_count": 64,
   "metadata": {},
   "outputs": [
    {
     "data": {
      "text/html": [
       "<div>\n",
       "<style scoped>\n",
       "    .dataframe tbody tr th:only-of-type {\n",
       "        vertical-align: middle;\n",
       "    }\n",
       "\n",
       "    .dataframe tbody tr th {\n",
       "        vertical-align: top;\n",
       "    }\n",
       "\n",
       "    .dataframe thead th {\n",
       "        text-align: right;\n",
       "    }\n",
       "</style>\n",
       "<table border=\"1\" class=\"dataframe\">\n",
       "  <thead>\n",
       "    <tr style=\"text-align: right;\">\n",
       "      <th></th>\n",
       "      <th>Document</th>\n",
       "      <th>label</th>\n",
       "    </tr>\n",
       "    <tr>\n",
       "      <th>Doc.No.</th>\n",
       "      <th></th>\n",
       "      <th></th>\n",
       "    </tr>\n",
       "  </thead>\n",
       "  <tbody>\n",
       "    <tr>\n",
       "      <th>0</th>\n",
       "      <td>Coffee Tea  Soup Coffee Coffee</td>\n",
       "      <td>0</td>\n",
       "    </tr>\n",
       "    <tr>\n",
       "      <th>1</th>\n",
       "      <td>Coffee is hot and so is Soup  and Tea</td>\n",
       "      <td>0</td>\n",
       "    </tr>\n",
       "    <tr>\n",
       "      <th>2</th>\n",
       "      <td>Espresso is a hot Coffee  and not a Tea</td>\n",
       "      <td>0</td>\n",
       "    </tr>\n",
       "    <tr>\n",
       "      <th>3</th>\n",
       "      <td>Coffee is neither Tea nor Soup</td>\n",
       "      <td>0</td>\n",
       "    </tr>\n",
       "    <tr>\n",
       "      <th>4</th>\n",
       "      <td>Sprite Pepsi  Cold Coffee and cold Tea</td>\n",
       "      <td>1</td>\n",
       "    </tr>\n",
       "  </tbody>\n",
       "</table>\n",
       "</div>"
      ],
      "text/plain": [
       "                                        Document  label\n",
       "Doc.No.                                                \n",
       "0                 Coffee Tea  Soup Coffee Coffee      0\n",
       "1          Coffee is hot and so is Soup  and Tea      0\n",
       "2        Espresso is a hot Coffee  and not a Tea      0\n",
       "3                 Coffee is neither Tea nor Soup      0\n",
       "4         Sprite Pepsi  Cold Coffee and cold Tea      1"
      ]
     },
     "execution_count": 64,
     "metadata": {},
     "output_type": "execute_result"
    }
   ],
   "source": [
    "data_frame = data_frame.drop('Class', axis=1)\n",
    "data_frame.head()"
   ]
  },
  {
   "cell_type": "markdown",
   "metadata": {},
   "source": [
    "### Dictionary\n",
    "#### How many words will be there in the dictionary vector without stop words?"
   ]
  },
  {
   "cell_type": "code",
   "execution_count": 66,
   "metadata": {},
   "outputs": [
    {
     "data": {
      "text/plain": [
       "8"
      ]
     },
     "execution_count": 66,
     "metadata": {},
     "output_type": "execute_result"
    }
   ],
   "source": [
    "vect = CountVectorizer(stop_words='english')\n",
    "vect.fit(data_frame.Document)\n",
    "len(vect.vocabulary_.keys())"
   ]
  },
  {
   "cell_type": "markdown",
   "metadata": {},
   "source": [
    "### Feature Vector\n",
    "\n",
    "What will be the feature vector after transforming the document:<br>\n",
    "**“Coffee is neither Tea nor Soup”  look like?**"
   ]
  },
  {
   "cell_type": "code",
   "execution_count": 70,
   "metadata": {},
   "outputs": [
    {
     "data": {
      "text/plain": [
       "array([[1, 0, 0, 0, 0, 1, 0, 1]])"
      ]
     },
     "execution_count": 70,
     "metadata": {},
     "output_type": "execute_result"
    }
   ],
   "source": [
    "X_train_transformed = vect.transform(['Coffee is neither Tea nor Soup'])\n",
    "X_train_transformed.toarray()"
   ]
  },
  {
   "cell_type": "markdown",
   "metadata": {},
   "source": [
    "### Feature Vector\n",
    "What will be the feature vector after transforming the document:<br>\n",
    "**“I hate cold Coffee but love Tea and hot Coffee”  look like?**"
   ]
  },
  {
   "cell_type": "code",
   "execution_count": 72,
   "metadata": {},
   "outputs": [
    {
     "data": {
      "text/plain": [
       "array([[2, 1, 0, 1, 0, 0, 0, 1]])"
      ]
     },
     "execution_count": 72,
     "metadata": {},
     "output_type": "execute_result"
    }
   ],
   "source": [
    "X_train_transformed = vect.transform(['I hate cold Coffee but love Tea and hot Coffee'])\n",
    "X_train_transformed.toarray()"
   ]
  }
 ],
 "metadata": {
  "kernelspec": {
   "display_name": "Python 3",
   "language": "python",
   "name": "python3"
  },
  "language_info": {
   "codemirror_mode": {
    "name": "ipython",
    "version": 3
   },
   "file_extension": ".py",
   "mimetype": "text/x-python",
   "name": "python",
   "nbconvert_exporter": "python",
   "pygments_lexer": "ipython3",
   "version": "3.8.1"
  }
 },
 "nbformat": 4,
 "nbformat_minor": 4
}
