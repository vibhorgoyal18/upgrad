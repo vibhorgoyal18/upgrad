{
 "cells": [
  {
   "cell_type": "markdown",
   "metadata": {},
   "source": [
    "### Creating a 3*3 array\n",
    "#### Description\n",
    "Create a 3*3 array using:<br> \n",
    "list_1 = [1,2,3]<br>\n",
    "list_2 = [4,5,6]<br>\n",
    "list_3 = [7,8,9]<br>"
   ]
  },
  {
   "cell_type": "code",
   "execution_count": 2,
   "metadata": {},
   "outputs": [
    {
     "name": "stdout",
     "output_type": "stream",
     "text": [
      "[[1 2 3]\n",
      " [4 5 6]\n",
      " [7 8 9]]\n"
     ]
    }
   ],
   "source": [
    "import numpy as np\n",
    "\n",
    "list_1 = [1, 2, 3]\n",
    "list_2 = [4, 5, 6]\n",
    "list_3 = [7, 8, 9]\n",
    "\n",
    "array_1 = np.array([list_1, list_2, list_3])\n",
    "\n",
    "print(array_1)"
   ]
  },
  {
   "cell_type": "markdown",
   "metadata": {},
   "source": [
    "### Element Wise Multiplication\n",
    "#### Description\n",
    "Perform an element-wise multiplication using list_1 = [2,3,4,5] list_2 = [7,8,9,6] and obtain the output as a list. <br>\n",
    "Hint: Convert the list to an array and after multiplication convert it back to a list."
   ]
  },
  {
   "cell_type": "code",
   "execution_count": 3,
   "metadata": {},
   "outputs": [
    {
     "name": "stdout",
     "output_type": "stream",
     "text": [
      "[14, 24, 36, 30]\n"
     ]
    }
   ],
   "source": [
    "import numpy as np\n",
    "\n",
    "list_1 = [2, 3, 4, 5]\n",
    "list_2 = [7, 8, 9, 6]\n",
    "\n",
    "array_1 = np.array(list_1)\n",
    "array_2 = np.array(list_2)\n",
    "array_3 = array_1 * array_2\n",
    "\n",
    "print(list(array_3))"
   ]
  },
  {
   "cell_type": "markdown",
   "metadata": {},
   "source": [
    "### Array Methods\n",
    "#### Description\n",
    "Given an integer 'x', create an array of size m*n having all integer values equal to 'x'.<br> \n",
    "Hint: Use dtype to specify integer.<br>\n",
    "\n",
    "#### Format:\n",
    "Input: <br>\n",
    "Line 1: A single integer 'x'<br>\n",
    "Line 2: A single integer 'm' indicating the number of rows<br>\n",
    "Line 3: A single integer 'n' indicating the number of columns<br>\n",
    "Output: An array of size 'm*n' having all the values as 'x'<br>\n",
    "\n",
    "#### Example:<br>\n",
    "Input 1:<br>\n",
    "1<br>\n",
    "3<br>\n",
    "3<br>\n",
    "Output 1:<br>\n",
    "[[1 1 1]<br>\n",
    " [1 1 1]<br>\n",
    " [1 1 1]]<br>"
   ]
  },
  {
   "cell_type": "code",
   "execution_count": 4,
   "metadata": {},
   "outputs": [
    {
     "name": "stdout",
     "output_type": "stream",
     "text": [
      "Enter the integer value: 5\n",
      "Enter the number of rows: 5\n",
      "Enter the number of columns: 10\n",
      "[[5 5 5 5 5 5 5 5 5 5]\n",
      " [5 5 5 5 5 5 5 5 5 5]\n",
      " [5 5 5 5 5 5 5 5 5 5]\n",
      " [5 5 5 5 5 5 5 5 5 5]\n",
      " [5 5 5 5 5 5 5 5 5 5]]\n"
     ]
    }
   ],
   "source": [
    "int_x = int(input('Enter the integer value: '))\n",
    "rows_m = int(input('Enter the number of rows: '))\n",
    "cols_n = int(input('Enter the number of columns: '))\n",
    "\n",
    "\n",
    "# Create an array of m*n with all elements equal to 'x' using the tile() function\n",
    "array_x = np.tile(int_x, (rows_m, cols_n))\n",
    "\n",
    "# Print the created array\n",
    "print(array_x)\n",
    "\n",
    "# Alternatively\n",
    "# Create an array of m*n with all elements equal to '1' using the ones() function\n",
    "# and multiply it by 'x'.\n",
    "array_x = int_x * np.ones((rows_m, cols_n), dtype=np.int)"
   ]
  },
  {
   "cell_type": "markdown",
   "metadata": {},
   "source": [
    "### Array 'arange' Function\n",
    "#### Description\n",
    "Create an array of first 10 multiples of 5 using the 'arange' function."
   ]
  },
  {
   "cell_type": "code",
   "execution_count": 5,
   "metadata": {},
   "outputs": [
    {
     "name": "stdout",
     "output_type": "stream",
     "text": [
      "[ 5 10 15 20 25 30 35 40 45 50]\n"
     ]
    }
   ],
   "source": [
    "import numpy as np\n",
    "array_multipleof5 = np.arange(start=5, stop=51, step=5, dtype=None)\n",
    "\n",
    "print(array_multipleof5)"
   ]
  },
  {
   "cell_type": "markdown",
   "metadata": {},
   "source": [
    "### Checkerboard Matrix\n",
    "#### Description\n",
    "Given an even integer ‘n’, create an ‘n*n’ checkerboard matrix with the values 0 and 1, using the tile function.<br>\n",
    " \n",
    "#### Format:\n",
    "Input: A single even integer 'n'.<br>\n",
    "Output: An 'n*n' NumPy array in checkerboard format.<br>\n",
    "\n",
    "### Example: \n",
    "Input 1:<br> \n",
    "2 <br>\n",
    "Output 1:<br> \n",
    "[[0 1] <br>\n",
    " [1 0]] <br>\n",
    "Input 2: <br>\n",
    "4 <br>\n",
    "Output 2: <br>\n",
    "[[0 1 0 1] <br>\n",
    " [1 0 1 0]<br>\n",
    " [0 1 0 1]<br>\n",
    " [1 0 1 0]]<br>\n"
   ]
  },
  {
   "cell_type": "code",
   "execution_count": 3,
   "metadata": {
    "scrolled": true
   },
   "outputs": [
    {
     "name": "stdout",
     "output_type": "stream",
     "text": [
      "Enter a number: 10\n",
      "[[0 1 0 1 0 1 0 1 0 1]\n",
      " [1 0 1 0 1 0 1 0 1 0]\n",
      " [0 1 0 1 0 1 0 1 0 1]\n",
      " [1 0 1 0 1 0 1 0 1 0]\n",
      " [0 1 0 1 0 1 0 1 0 1]\n",
      " [1 0 1 0 1 0 1 0 1 0]\n",
      " [0 1 0 1 0 1 0 1 0 1]\n",
      " [1 0 1 0 1 0 1 0 1 0]\n",
      " [0 1 0 1 0 1 0 1 0 1]\n",
      " [1 0 1 0 1 0 1 0 1 0]]\n"
     ]
    }
   ],
   "source": [
    "n = int(input(\"Enter a number: \"))\n",
    "import numpy as np\n",
    "x = np.zeros((n,n), dtype=int)\n",
    "x = np.zeros((n,n), dtype=int)\n",
    "x[1::2, ::2] = 1\n",
    "x[::2, 1::2] = 1\n",
    "print(x)"
   ]
  },
  {
   "cell_type": "markdown",
   "metadata": {},
   "source": [
    "### 2D Array\n",
    "#### Description\n",
    "Create an array using list list_1 = [10,11,12,13] and list_2 = [15,12,13,14] and print the shape and dimension of the array created."
   ]
  },
  {
   "cell_type": "code",
   "execution_count": 5,
   "metadata": {},
   "outputs": [
    {
     "name": "stdout",
     "output_type": "stream",
     "text": [
      "(2, 4)\n",
      "2\n"
     ]
    }
   ],
   "source": [
    "import numpy as np\n",
    "\n",
    "list_1 = [10, 11, 12, 13]\n",
    "list_2 = [15, 12, 13, 14]\n",
    "\n",
    "array_1 = np.array([list_1, list_2])\n",
    "\n",
    "print(array_1.shape)\n",
    "print(array_1.ndim)"
   ]
  },
  {
   "cell_type": "markdown",
   "metadata": {},
   "source": [
    "### 2D Array\n",
    "#### Description\n",
    "From a 2D array extract all the rows of the 2 column.<br>\n",
    "Hint: 2 column will have index value as 1."
   ]
  },
  {
   "cell_type": "code",
   "execution_count": 6,
   "metadata": {},
   "outputs": [
    {
     "name": "stdout",
     "output_type": "stream",
     "text": [
      "[6 6 8]\n"
     ]
    }
   ],
   "source": [
    "input_list = [[5, 6, 7], [7, 6, 5], [0, 8, 7]]\n",
    "array_2d = np.array(input_list)\n",
    "print(array_2d[:, 1])"
   ]
  },
  {
   "cell_type": "markdown",
   "metadata": {},
   "source": [
    "### Border Rows and Columns\n",
    "#### Description\n",
    "Extract all the border rows and columns from a 2-D array.\n",
    "\n",
    "#### Format:\n",
    "Input: A 2-D Python list<br>\n",
    "Output: Four NumPy arrays - First column of the input array, first row of the input array, last column of the input array, last row of the input array respectively.\n",
    "\n",
    "#### Example:\n",
    "Input 1:<br>\n",
    "[[11 12 13 14]<br>\n",
    " [21 22 23 24]<br>\n",
    " [31 32 33 34]]<br>\n",
    "Output 1:<br>\n",
    "[11 21 31]<br>\n",
    "[11 12 13 14]<br>\n",
    "[14 24 34]<br>\n",
    "[31 32 33 34]<br>"
   ]
  },
  {
   "cell_type": "code",
   "execution_count": 7,
   "metadata": {},
   "outputs": [
    {
     "name": "stdout",
     "output_type": "stream",
     "text": [
      "Column 1: [11 21 31]\n",
      "Row 1: [11 12 13 14]\n",
      "Column 2: [14 24 34]\n",
      "Row 2: [31 32 33 34]\n"
     ]
    }
   ],
   "source": [
    "import numpy as np\n",
    "\n",
    "input_list = [[11, 12, 13, 14],\n",
    "              [21, 22, 23, 24],\n",
    "              [31, 32, 33, 34]]\n",
    "\n",
    "# Convert the input list to a NumPy array\n",
    "array_2d = np.array(input_list)\n",
    "\n",
    "# Extract the first column, first row, last column and last row respectively using\n",
    "# appropriate indexing\n",
    "col_first = array_2d[:, 0]\n",
    "row_first = array_2d[0]\n",
    "col_last = array_2d[:, array_2d.shape[1] - 1]\n",
    "row_last = array_2d[array_2d.shape[0] - 1]\n",
    "\n",
    "print('Column 1: ' + str(col_first))\n",
    "print('Row 1: ' + str(row_first))\n",
    "print('Column 2: ' + str(col_last))\n",
    "print('Row 2: ' + str(row_last))"
   ]
  },
  {
   "cell_type": "markdown",
   "metadata": {},
   "source": [
    "### Stacking Two Arrays\n",
    "#### Description\n",
    "Horizontally stack two arrays using hstack, and finally, vertically stack the resultant array with the third array. \n",
    "\n",
    "#### Example:\n",
    "Input 1:<br>\n",
    "[[1, 2],<br>\n",
    " [5, 6]]<br>\n",
    "\n",
    "[[3, 4],<br>\n",
    " [7, 8]]<br>\n",
    "\n",
    "[[9, 10, 11, 12]]<br>\n",
    "Output 1:<br>\n",
    "[[1 2 3 4]<br>\n",
    " [5 6 7 8]<br>\n",
    " [9 10 11 12]]<br>"
   ]
  },
  {
   "cell_type": "code",
   "execution_count": 8,
   "metadata": {},
   "outputs": [
    {
     "name": "stdout",
     "output_type": "stream",
     "text": [
      "[[ 1  2  3  4]\n",
      " [ 5  6  7  8]\n",
      " [ 9 10 11 12]]\n"
     ]
    }
   ],
   "source": [
    "import numpy as np\n",
    "\n",
    "input_list = [[[1, 2], [5, 6]], [[3, 4], [7, 8]], [[9, 10, 11, 12]]]\n",
    "list_1 = input_list[0]\n",
    "list_2 = input_list[1]\n",
    "list_3 = input_list[2]\n",
    "\n",
    "horizontal_stack = np.hstack((list_1, list_2))\n",
    "vertical_stack = np.vstack((horizontal_stack, list_3))\n",
    "\n",
    "print(vertical_stack)"
   ]
  },
  {
   "cell_type": "markdown",
   "metadata": {},
   "source": [
    "### Vectorize Numpy\n",
    "#### Description\n",
    "Given an array, 'array_3' divide each element with 5. <br>\n",
    "Hint: Create a vectorized function, then apply it to the array_3"
   ]
  },
  {
   "cell_type": "code",
   "execution_count": 9,
   "metadata": {},
   "outputs": [
    {
     "name": "stdout",
     "output_type": "stream",
     "text": [
      "[[0.2 0.4 0.6 0.8 1.8 0.  1.4 1.6]\n",
      " [0.8 1.4 1.  1.2 1.2 1.4 1.6 1. ]]\n"
     ]
    }
   ],
   "source": [
    "import numpy as np\n",
    "\n",
    "input_list = [[1, 2, 3, 4], [4, 7, 5, 6], [9, 0, 7, 8], [6, 7, 8, 5]]\n",
    "list_1 = input_list[0:2]\n",
    "list_2 = input_list[2:4]\n",
    "\n",
    "array_1 = np.array(list_1)\n",
    "array_2 = np.array(list_2)\n",
    "array_3 = np.hstack((array_1, array_2))\n",
    "\n",
    "function = np.vectorize(lambda x: x / 5)\n",
    "\n",
    "print(function(array_3))"
   ]
  },
  {
   "cell_type": "markdown",
   "metadata": {},
   "source": [
    "### Linear algebra\n",
    "#### Description\n",
    "Find the inverse, eigenvalues, eigenvectors, determinants of a given matrix 'array_1'."
   ]
  },
  {
   "cell_type": "code",
   "execution_count": 10,
   "metadata": {},
   "outputs": [
    {
     "name": "stdout",
     "output_type": "stream",
     "text": [
      "(array([ 9.62347538, -0.62347538,  1.        ]), array([[-0.38508979, -0.82767094, -0.26726124],\n",
      "       [-0.55951021, -0.14241368, -0.80178373],\n",
      "       [-0.73393063,  0.54284358,  0.53452248]]))\n",
      "[[-1.66666667  1.          0.16666667]\n",
      " [-0.66666667  1.         -0.33333333]\n",
      " [ 1.33333333 -1.          0.16666667]]\n",
      "-6.0\n"
     ]
    }
   ],
   "source": [
    "import numpy as np\n",
    "\n",
    "input_list = [[1, 2, 3], [2, 3, 4], [4, 2, 6]]\n",
    "list_1 = input_list[0]\n",
    "list_2 = input_list[1]\n",
    "list_3 = input_list[2]\n",
    "\n",
    "array_1 = np.array([list_1, list_2, list_3])\n",
    "eigen = np.linalg.eig(array_1)\n",
    "inv = np.linalg.inv(array_1)\n",
    "det = np.linalg.det(array_1)\n",
    "print(eigen)\n",
    "print(inv)\n",
    "print(det)\n"
   ]
  },
  {
   "cell_type": "code",
   "execution_count": null,
   "metadata": {},
   "outputs": [],
   "source": []
  }
 ],
 "metadata": {
  "kernelspec": {
   "display_name": "Python 3",
   "language": "python",
   "name": "python3"
  },
  "language_info": {
   "codemirror_mode": {
    "name": "ipython",
    "version": 3
   },
   "file_extension": ".py",
   "mimetype": "text/x-python",
   "name": "python",
   "nbconvert_exporter": "python",
   "pygments_lexer": "ipython3",
   "version": "3.7.3"
  }
 },
 "nbformat": 4,
 "nbformat_minor": 2
}
