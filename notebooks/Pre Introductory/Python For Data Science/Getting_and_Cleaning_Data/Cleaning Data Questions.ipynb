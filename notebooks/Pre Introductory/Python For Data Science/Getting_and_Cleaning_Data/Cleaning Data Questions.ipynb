{
 "cells": [
  {
   "cell_type": "markdown",
   "metadata": {},
   "source": [
    "### Missing Values\n",
    "#### Description\n",
    "Print out the number of missing values in each column in the given dataframe."
   ]
  },
  {
   "cell_type": "code",
   "execution_count": 2,
   "metadata": {},
   "outputs": [
    {
     "name": "stdout",
     "output_type": "stream",
     "text": [
      "Ord_id                   0\n",
      "Prod_id                  0\n",
      "Ship_id                  0\n",
      "Cust_id                  0\n",
      "Sales                   20\n",
      "Discount                55\n",
      "Order_Quantity          55\n",
      "Profit                  55\n",
      "Shipping_Cost           55\n",
      "Product_Base_Margin    109\n",
      "dtype: int64\n"
     ]
    }
   ],
   "source": [
    "import pandas as pd\n",
    "\n",
    "df = pd.read_csv('https://query.data.world/s/Hfu_PsEuD1Z_yJHmGaxWTxvkz7W_b0')\n",
    "print(df.isnull().sum())"
   ]
  },
  {
   "cell_type": "markdown",
   "metadata": {},
   "source": [
    "### Missing Values Percentage\n",
    "#### Description\n",
    "Find out the percentage of missing values in each column in the given dataset."
   ]
  },
  {
   "cell_type": "code",
   "execution_count": 3,
   "metadata": {},
   "outputs": [
    {
     "name": "stdout",
     "output_type": "stream",
     "text": [
      "Ord_id                 0.00\n",
      "Prod_id                0.00\n",
      "Ship_id                0.00\n",
      "Cust_id                0.00\n",
      "Sales                  0.24\n",
      "Discount               0.65\n",
      "Order_Quantity         0.65\n",
      "Profit                 0.65\n",
      "Shipping_Cost          0.65\n",
      "Product_Base_Margin    1.30\n",
      "dtype: float64\n"
     ]
    }
   ],
   "source": [
    "import pandas as pd\n",
    "df = pd.read_csv('https://query.data.world/s/Hfu_PsEuD1Z_yJHmGaxWTxvkz7W_b0')\n",
    "print(round(100 * (df.isnull().sum() / len(df.index)), 2))"
   ]
  },
  {
   "cell_type": "markdown",
   "metadata": {},
   "source": [
    "### Removing Missing Values From the Rows\n",
    "#### Description\n",
    "Remove the missing values from the rows having greater than 5 missing values and then print the percentage of missing values in each column."
   ]
  },
  {
   "cell_type": "code",
   "execution_count": 4,
   "metadata": {},
   "outputs": [
    {
     "name": "stdout",
     "output_type": "stream",
     "text": [
      "Ord_id                 0.00\n",
      "Prod_id                0.00\n",
      "Ship_id                0.00\n",
      "Cust_id                0.00\n",
      "Sales                  0.00\n",
      "Discount               0.42\n",
      "Order_Quantity         0.42\n",
      "Profit                 0.42\n",
      "Shipping_Cost          0.42\n",
      "Product_Base_Margin    1.06\n",
      "dtype: float64\n"
     ]
    }
   ],
   "source": [
    "import pandas as pd\n",
    "df = pd.read_csv('https://query.data.world/s/Hfu_PsEuD1Z_yJHmGaxWTxvkz7W_b0')\n",
    "df = df[df.isnull().sum(axis=1) <= 5]\n",
    "print(round(100 * (df.isnull().sum() / len(df.index)), 2))"
   ]
  },
  {
   "cell_type": "markdown",
   "metadata": {},
   "source": [
    "### Mean Imputation\n",
    "#### Description\n",
    "Impute the mean value at all the missing values of the column 'Product_Base_Margin' and then print the percentage of missing values in each column."
   ]
  },
  {
   "cell_type": "code",
   "execution_count": 5,
   "metadata": {},
   "outputs": [
    {
     "name": "stdout",
     "output_type": "stream",
     "text": [
      "Ord_id                 0.00\n",
      "Prod_id                0.00\n",
      "Ship_id                0.00\n",
      "Cust_id                0.00\n",
      "Sales                  0.24\n",
      "Discount               0.65\n",
      "Order_Quantity         0.65\n",
      "Profit                 0.65\n",
      "Shipping_Cost          0.65\n",
      "Product_Base_Margin    0.00\n",
      "dtype: float64\n"
     ]
    }
   ],
   "source": [
    "import numpy as np\n",
    "import pandas as pd\n",
    "\n",
    "df = pd.read_csv('https://query.data.world/s/Hfu_PsEuD1Z_yJHmGaxWTxvkz7W_b0')\n",
    "df.loc[np.isnan(df['Product_Base_Margin']), ['Product_Base_Margin']] = df['Product_Base_Margin'].mean()\n",
    "print(round(100 * (df.isnull().sum() / len(df.index)), 2))"
   ]
  },
  {
   "cell_type": "code",
   "execution_count": null,
   "metadata": {},
   "outputs": [],
   "source": []
  }
 ],
 "metadata": {
  "kernelspec": {
   "display_name": "Python 3",
   "language": "python",
   "name": "python3"
  },
  "language_info": {
   "codemirror_mode": {
    "name": "ipython",
    "version": 3
   },
   "file_extension": ".py",
   "mimetype": "text/x-python",
   "name": "python",
   "nbconvert_exporter": "python",
   "pygments_lexer": "ipython3",
   "version": "3.7.3"
  }
 },
 "nbformat": 4,
 "nbformat_minor": 2
}
