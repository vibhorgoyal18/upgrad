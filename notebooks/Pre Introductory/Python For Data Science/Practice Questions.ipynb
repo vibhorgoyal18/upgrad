{
 "cells": [
  {
   "cell_type": "markdown",
   "metadata": {},
   "source": [
    "### Swap two rows\n",
    "#### Description\n",
    "Given m and n, swap the mth and nth rows of the 2-D NumPy array given below.\n",
    "\n",
    "a =<br> \n",
    "[[4 3 1]<br>\n",
    " [5 7 0]<br>\n",
    " [9 9 3]<br>\n",
    "[8 2 4]]<br>\n",
    "\n",
    "#### Example:\n",
    "Input 1:<br>\n",
    "0<br>\n",
    "2<br>\n",
    "Output 1:<br>\n",
    "[[9 9 3] <br>\n",
    " [5 7 0] <br>\n",
    " [4 3 1] <br>\n",
    " [8 2 4]]"
   ]
  },
  {
   "cell_type": "code",
   "execution_count": 2,
   "metadata": {},
   "outputs": [
    {
     "name": "stdout",
     "output_type": "stream",
     "text": [
      "Enter value of m: 1\n",
      "Enter value of m: 2\n",
      "[[4 3 1]\n",
      " [9 9 3]\n",
      " [5 7 0]\n",
      " [8 2 4]]\n"
     ]
    }
   ],
   "source": [
    "import numpy as np \n",
    "\n",
    "# Given array\n",
    "a = np.array([[4, 3, 1], [5, 7, 0], [9, 9, 3], [8, 2, 4]])\n",
    "\n",
    "# Read the values of m and n\n",
    "import sys\n",
    "m = int(input('Enter value of m: '))\n",
    "n = int(input('Enter value of m: '))\n",
    "\n",
    "a[[m,n]] = a[[n,m]]\n",
    "\n",
    "print(a)"
   ]
  },
  {
   "cell_type": "markdown",
   "metadata": {},
   "source": [
    "### Description\n",
    "#### Given a single integer n, create an (n x n) 2D array with 1 on the border and 0 on the inside.\n",
    "\n",
    "Note: Make sure the array is of type int.\n",
    "\n",
    "#### Example:\n",
    "Input 1:<br>\n",
    "4<br>\n",
    "Output 1:<br>\n",
    "[[1 1 1 1]<br>\n",
    "[1 0 0 1]<br>\n",
    "[1 0 0 1]<br>\n",
    "[1 1 1 1]]<br>\n",
    "Input 2:<br>\n",
    "2<br>\n",
    "Output 2:<br>\n",
    "[[1 1] <br>\n",
    " [1 1]] "
   ]
  },
  {
   "cell_type": "code",
   "execution_count": 3,
   "metadata": {},
   "outputs": [
    {
     "name": "stdout",
     "output_type": "stream",
     "text": [
      "Enter a number: 10\n",
      "[[1 1 1 1 1 1 1 1 1 1]\n",
      " [1 0 0 0 0 0 0 0 0 1]\n",
      " [1 0 0 0 0 0 0 0 0 1]\n",
      " [1 0 0 0 0 0 0 0 0 1]\n",
      " [1 0 0 0 0 0 0 0 0 1]\n",
      " [1 0 0 0 0 0 0 0 0 1]\n",
      " [1 0 0 0 0 0 0 0 0 1]\n",
      " [1 0 0 0 0 0 0 0 0 1]\n",
      " [1 0 0 0 0 0 0 0 0 1]\n",
      " [1 1 1 1 1 1 1 1 1 1]]\n"
     ]
    }
   ],
   "source": [
    "import numpy as np\n",
    "\n",
    "n = int(input('Enter a number: '))\n",
    "\n",
    "a = np.ones((n, n), dtype=int)\n",
    "a[1:-1, 1:-1] = 0\n",
    "print(a)\n"
   ]
  },
  {
   "cell_type": "markdown",
   "metadata": {},
   "source": [
    "#### Filtering based on conditions\n",
    "Suppose in ‘ipl18’, you want to filter out the teams that have an NRR greater than zero, and for which the ‘For’ score exceeds the ‘Against’ score, i.e. both the conditions should be satisfied. Which teams will be left after you perform the above filtration? "
   ]
  },
  {
   "cell_type": "code",
   "execution_count": 6,
   "metadata": {},
   "outputs": [
    {
     "name": "stdout",
     "output_type": "stream",
     "text": [
      "  Team  Matches  Won  Lost  Tied  N/R  Points    NRR   For  Against\n",
      "1  SRH       14    9     5     0    0      18  0.284  2230     2193\n",
      "2  CSK       14    9     5     0    0      18  0.253  2488     2433\n",
      "5   MI       14    6     8     0    0      12  0.317  2380     2282\n"
     ]
    }
   ],
   "source": [
    "import pandas as pd\n",
    "\n",
    "ipl18 = pd.DataFrame({'Team': ['SRH', 'CSK', 'KKR', 'RR', 'MI', 'RCB', 'KXIP', 'DD'],\n",
    "                      'Matches': [14, 14, 14, 14, 14, 14, 14, 14],\n",
    "                      'Won': [9, 9, 8, 7, 6, 6, 6, 5],\n",
    "                      'Lost': [5, 5, 6, 7, 8, 8, 8, 9],\n",
    "                      'Tied': [0, 0, 0, 0, 0, 0, 0, 0],\n",
    "                      'N/R': [0, 0, 0, 0, 0, 0, 0, 0],\n",
    "                      'Points': [18, 18, 16, 14, 12, 12, 12, 10],\n",
    "                      'NRR': [0.284, 0.253, -0.070, -0.250, 0.317, 0.129, -0.502, -0.222],\n",
    "                      'For': [2230, 2488, 2363, 2130, 2380, 2322, 2210, 2297],\n",
    "                      'Against': [2193, 2433, 2425, 2141, 2282, 2383, 2259, 2304]},\n",
    "                     index=range(1, 9)\n",
    "                     )\n",
    "\n",
    "print(ipl18[(ipl18['NRR'] > 0) & (ipl18['For'] > ipl18['Against'])])"
   ]
  },
  {
   "cell_type": "markdown",
   "metadata": {},
   "source": [
    "#### Operations on multiple dataframes\n",
    "If all the stats are taken for both ‘ipl17’ and ‘ipl18’, which team with its total points greater than 25 will have the highest win percentage?"
   ]
  },
  {
   "cell_type": "code",
   "execution_count": 8,
   "metadata": {},
   "outputs": [
    {
     "name": "stdout",
     "output_type": "stream",
     "text": [
      "   Team  Matches  Won  Lost  Tied  N/R  Points    NRR   For  Against\n",
      "1   SRH       14    9     5     0    0      18  0.284  2230     2193\n",
      "2   CSK       14    9     5     0    0      18  0.253  2488     2433\n",
      "3   KKR       14    8     6     0    0      16 -0.070  2363     2425\n",
      "4    RR       14    7     7     0    0      14 -0.250  2130     2141\n",
      "5    MI       14    6     8     0    0      12  0.317  2380     2282\n",
      "6   RCB       14    6     8     0    0      12  0.129  2322     2383\n",
      "7  KXIP       14    6     8     0    0      12 -0.502  2210     2259\n",
      "8    DD       14    5     9     0    0      10 -0.222  2297     2304\n",
      "   Team  Matches  Won  Lost  Tied  N/R  Points    NRR   For  Against\n",
      "1    MI       14   10     4     0    0      20  0.784  2407     2242\n",
      "2   RPS       14    9     5     0    0      18  0.176  2180     2165\n",
      "3   SRH       14    8     5     0    1      17  0.469  2221     2118\n",
      "4   KKR       14    8     6     0    0      16  0.641  2329     2300\n",
      "5  KXIP       14    7     7     0    0      14  0.123  2207     2229\n",
      "6    DD       14    6     8     0    0      12 -0.512  2219     2255\n",
      "7    GL       14    4    10     0    0       8 -0.412  2406     2472\n",
      "8   RCB       14    3    10     0    1       7 -1.299  1845     2033\n"
     ]
    }
   ],
   "source": [
    "import pandas as pd\n",
    "\n",
    "ipl17 = pd.DataFrame({'Team': ['MI', 'RPS', 'SRH', 'KKR', 'KXIP', 'DD', 'GL', 'RCB'],\n",
    "                         'Matches': [14, 14, 14, 14, 14, 14, 14, 14],\n",
    "                         'Won': [10, 9, 8, 8, 7, 6, 4, 3],\n",
    "                         'Lost': [4, 5, 5, 6, 7, 8, 10, 10],\n",
    "                         'Tied': [0, 0, 0, 0, 0, 0, 0, 0],\n",
    "                         'N/R': [0, 0, 1, 0, 0, 0, 0, 1],\n",
    "                         'Points': [20, 18, 17, 16, 14, 12, 8, 7],\n",
    "                         'NRR': [0.784, 0.176, 0.469, 0.641, 0.123, -0.512, -0.412, -1.299],\n",
    "                         'For': [2407, 2180, 2221, 2329, 2207, 2219, 2406, 1845],\n",
    "                         'Against': [2242, 2165, 2118, 2300, 2229, 2255, 2472, 2033]},\n",
    "                         index = range(1,9)\n",
    "                    )\n",
    "print(ipl18)\n",
    "print(ipl17)"
   ]
  },
  {
   "cell_type": "code",
   "execution_count": 11,
   "metadata": {},
   "outputs": [
    {
     "name": "stdout",
     "output_type": "stream",
     "text": [
      "      Matches   Won  Lost  Tied  N/R  Points    NRR     For  Against  \\\n",
      "Team                                                                   \n",
      "SRH      28.0  17.0  10.0   0.0  1.0    35.0  0.753  4451.0   4311.0   \n",
      "\n",
      "      win_percentage  \n",
      "Team                  \n",
      "SRH        60.714286  \n"
     ]
    }
   ],
   "source": [
    "ipl18.set_index('Team', inplace=True)\n",
    "ipl17.set_index('Team', inplace=True)\n",
    "ipl_17_18 = ipl18.add(ipl17, fill_value=0, )\n",
    "ipl_17_18 = ipl_17_18[ipl_17_18['Points'] > 25]\n",
    "ipl_17_18['win_percentage'] = 100 * (ipl_17_18['Won'] / ipl_17_18['Matches'])\n",
    "\n",
    "print(ipl_17_18[ipl_17_18['win_percentage'] == ipl_17_18['win_percentage'].max()])"
   ]
  },
  {
   "cell_type": "code",
   "execution_count": null,
   "metadata": {},
   "outputs": [],
   "source": []
  }
 ],
 "metadata": {
  "kernelspec": {
   "display_name": "Python 3",
   "language": "python",
   "name": "python3"
  },
  "language_info": {
   "codemirror_mode": {
    "name": "ipython",
    "version": 3
   },
   "file_extension": ".py",
   "mimetype": "text/x-python",
   "name": "python",
   "nbconvert_exporter": "python",
   "pygments_lexer": "ipython3",
   "version": "3.7.3"
  }
 },
 "nbformat": 4,
 "nbformat_minor": 2
}
