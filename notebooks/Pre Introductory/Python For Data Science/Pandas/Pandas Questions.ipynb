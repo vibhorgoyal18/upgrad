{
 "cells": [
  {
   "cell_type": "markdown",
   "metadata": {},
   "source": [
    "### Pandas Series\n",
    "#### Description\n",
    "Create a series using list = [6,7,8,9,2,3,4,5] and print the output series as the square of each number in the list.<br>\n",
    "Hint: If input series = 1,2,3 the output series should be 1,4,9<br>\n",
    "Hint: First create the series and then using apply and lambda find the output series.<br>"
   ]
  },
  {
   "cell_type": "code",
   "execution_count": 1,
   "metadata": {},
   "outputs": [
    {
     "name": "stdout",
     "output_type": "stream",
     "text": [
      "0    6\n",
      "1    7\n",
      "2    8\n",
      "3    9\n",
      "4    2\n",
      "5    3\n",
      "6    4\n",
      "7    5\n",
      "dtype: int64\n",
      "0    36\n",
      "1    49\n",
      "2    64\n",
      "3    81\n",
      "4     4\n",
      "5     9\n",
      "6    16\n",
      "7    25\n",
      "dtype: int64\n"
     ]
    }
   ],
   "source": [
    "import numpy as np\n",
    "import pandas as pd\n",
    "series_1 = pd.Series([6, 7, 8, 9, 2, 3, 4, 5])\n",
    "series_2 = series_1.apply(lambda x: x ** 2)\n",
    "print(series_1)\n",
    "print(series_2)"
   ]
  },
  {
   "cell_type": "markdown",
   "metadata": {},
   "source": [
    "### DataFrames\n",
    "#### Description\n",
    "Given a dataframe 'df' use the following commands and analyse the result.<br>\n",
    "describe() <br>\n",
    "columns<br>\n",
    "shape<br>"
   ]
  },
  {
   "cell_type": "code",
   "execution_count": 2,
   "metadata": {},
   "outputs": [
    {
     "name": "stdout",
     "output_type": "stream",
     "text": [
      "                X           Y        FFMC         DMC          DC         ISI  \\\n",
      "count  517.000000  517.000000  517.000000  517.000000  517.000000  517.000000   \n",
      "mean     4.669246    4.299807   90.644681  110.872340  547.940039    9.021663   \n",
      "std      2.313778    1.229900    5.520111   64.046482  248.066192    4.559477   \n",
      "min      1.000000    2.000000   18.700000    1.100000    7.900000    0.000000   \n",
      "25%      3.000000    4.000000   90.200000   68.600000  437.700000    6.500000   \n",
      "50%      4.000000    4.000000   91.600000  108.300000  664.200000    8.400000   \n",
      "75%      7.000000    5.000000   92.900000  142.400000  713.900000   10.800000   \n",
      "max      9.000000    9.000000   96.200000  291.300000  860.600000   56.100000   \n",
      "\n",
      "             temp          RH        wind        rain         area  \n",
      "count  517.000000  517.000000  517.000000  517.000000   517.000000  \n",
      "mean    18.889168   44.288201    4.017602    0.021663    12.847292  \n",
      "std      5.806625   16.317469    1.791653    0.295959    63.655818  \n",
      "min      2.200000   15.000000    0.400000    0.000000     0.000000  \n",
      "25%     15.500000   33.000000    2.700000    0.000000     0.000000  \n",
      "50%     19.300000   42.000000    4.000000    0.000000     0.520000  \n",
      "75%     22.800000   53.000000    4.900000    0.000000     6.570000  \n",
      "max     33.300000  100.000000    9.400000    6.400000  1090.840000  \n",
      "Index(['X', 'Y', 'month', 'day', 'FFMC', 'DMC', 'DC', 'ISI', 'temp', 'RH',\n",
      "       'wind', 'rain', 'area'],\n",
      "      dtype='object')\n",
      "(517, 13)\n"
     ]
    }
   ],
   "source": [
    "import numpy as np\n",
    "import pandas as pd\n",
    "df = pd.read_csv('https://query.data.world/s/vBDCsoHCytUSLKkLvq851k2b8JOCkF')\n",
    "print(df.describe())\n",
    "print(df.columns)\n",
    "print(df.shape)"
   ]
  },
  {
   "cell_type": "markdown",
   "metadata": {},
   "source": [
    "### Manual Indexing\n",
    "#### Description\n",
    "Create a panda series that contains the first ‘n’ natural numbers and their respective squares. The first ‘n’ numbers should appear in the index position. <br>\n",
    "Hint: Use manual indexing.\n",
    " \n",
    "#### Format:\n",
    "Input: A natural number 'n'<br>\n",
    "Output: A pandas series with the first 'n' natural numbers in the index position and their respective squares in the adjacent column.<br>\n",
    "\n",
    "#### Example: \n",
    "Input 1:<br> \n",
    "4 <br>\n",
    "Output 1:<br> \n",
    "1  1 <br>\n",
    "2  4 <br>\n",
    "3  9 <br>\n",
    "4  16 <br>\n",
    "dtype: int64\n"
   ]
  },
  {
   "cell_type": "code",
   "execution_count": 5,
   "metadata": {},
   "outputs": [
    {
     "name": "stdout",
     "output_type": "stream",
     "text": [
      "Enter a number: 10\n",
      "1       1\n",
      "2       4\n",
      "3       9\n",
      "4      16\n",
      "5      25\n",
      "6      36\n",
      "7      49\n",
      "8      64\n",
      "9      81\n",
      "10    100\n",
      "dtype: int64\n"
     ]
    }
   ],
   "source": [
    "n = int(input('Enter a number: '))\n",
    "\n",
    "import numpy as np \n",
    "import pandas as pd \n",
    "\n",
    "series = pd.Series(np.array(range(1, n + 1)) ** 2, index=range(1, n + 1))\n",
    "print(series)"
   ]
  },
  {
   "cell_type": "markdown",
   "metadata": {},
   "source": [
    "### Set Index in Dataframe\n",
    "#### Description\n",
    "Using set_index command set the column 'X' as the index of the dataset and then print the head of the dataset.<br>\n",
    "Hint: Use inplace = False "
   ]
  },
  {
   "cell_type": "code",
   "execution_count": 6,
   "metadata": {},
   "outputs": [
    {
     "name": "stdout",
     "output_type": "stream",
     "text": [
      "   Y month  day  FFMC   DMC     DC  ISI  temp  RH  wind  rain  area\n",
      "X                                                                  \n",
      "7  5   mar  fri  86.2  26.2   94.3  5.1   8.2  51   6.7   0.0   0.0\n",
      "7  4   oct  tue  90.6  35.4  669.1  6.7  18.0  33   0.9   0.0   0.0\n",
      "7  4   oct  sat  90.6  43.7  686.9  6.7  14.6  33   1.3   0.0   0.0\n",
      "8  6   mar  fri  91.7  33.3   77.5  9.0   8.3  97   4.0   0.2   0.0\n",
      "8  6   mar  sun  89.3  51.3  102.2  9.6  11.4  99   1.8   0.0   0.0\n"
     ]
    }
   ],
   "source": [
    "import pandas as pd\n",
    "df = pd.read_csv('https://query.data.world/s/vBDCsoHCytUSLKkLvq851k2b8JOCkF')\n",
    "df_2 = df.set_index('X', inplace=False)\n",
    "print(df_2.head())"
   ]
  },
  {
   "cell_type": "markdown",
   "metadata": {},
   "source": [
    "### Sorting Dataframes\n",
    "#### Description\n",
    "Sort the dataframe on 'month' and 'day' in ascending order in the dataframe 'df'."
   ]
  },
  {
   "cell_type": "code",
   "execution_count": 8,
   "metadata": {},
   "outputs": [
    {
     "name": "stdout",
     "output_type": "stream",
     "text": [
      "     X  Y month  day  FFMC    DMC     DC   ISI  temp  RH  wind  rain   area\n",
      "241  4  4   apr  fri  83.0   23.3   85.3   2.3  16.7  20   3.1   0.0   0.00\n",
      "442  6  5   apr  mon  87.9   24.9   41.6   3.7  10.9  64   3.1   0.0   3.35\n",
      "19   6  4   apr  sat  86.3   27.4   97.1   5.1   9.3  44   4.5   0.0   0.00\n",
      "239  7  5   apr  sun  81.9    3.0    7.9   3.5  13.4  75   1.8   0.0   0.00\n",
      "469  6  3   apr  sun  91.0   14.6   25.6  12.3  13.7  33   9.4   0.0  61.13\n",
      "470  5  4   apr  sun  91.0   14.6   25.6  12.3  17.6  27   5.8   0.0   0.00\n",
      "176  6  5   apr  thu  81.5    9.1   55.2   2.7   5.8  54   5.8   0.0   4.61\n",
      "196  6  5   apr  thu  81.5    9.1   55.2   2.7   5.8  54   5.8   0.0  10.93\n",
      "240  6  3   apr  wed  88.0   17.2   43.5   3.8  15.2  51   2.7   0.0   0.00\n",
      "12   6  5   aug  fri  63.5   70.8  665.3   0.8  17.0  72   6.7   0.0   0.00\n",
      "78   1  2   aug  fri  90.1  108.0  529.8  12.5  14.7  66   2.7   0.0   0.00\n",
      "142  8  6   aug  fri  90.1  108.0  529.8  12.5  21.2  51   8.9   0.0   0.61\n",
      "184  8  6   aug  fri  93.9  135.7  586.7  15.1  20.8  34   4.9   0.0   6.96\n",
      "195  2  5   aug  fri  93.9  135.7  586.7  15.1  23.5  36   5.4   0.0  10.02\n",
      "261  3  4   aug  fri  91.6  112.4  573.0   8.9  11.2  84   7.6   0.0   3.30\n",
      "262  2  4   aug  fri  91.6  112.4  573.0   8.9  21.4  42   3.1   0.0   4.25\n",
      "263  6  3   aug  fri  91.1  141.1  629.1   7.1  19.3  39   3.6   0.0   1.56\n",
      "264  4  4   aug  fri  94.3  167.6  684.4  13.0  21.8  53   3.1   0.0   6.54\n",
      "388  6  4   aug  fri  94.8  227.0  706.7  12.0  23.3  34   3.1   0.0  28.74\n",
      "389  7  4   aug  fri  94.8  227.0  706.7  12.0  23.3  34   3.1   0.0   0.00\n"
     ]
    }
   ],
   "source": [
    "import pandas as pd\n",
    "df = pd.read_csv('https://query.data.world/s/vBDCsoHCytUSLKkLvq851k2b8JOCkF')\n",
    "df_2 = df.sort_values(by=['month', 'day'], inplace=False, ascending=True)\n",
    "print(df_2.head(20))"
   ]
  },
  {
   "cell_type": "markdown",
   "metadata": {},
   "source": [
    "### Indexing Dataframes\n",
    "#### Description\n",
    "Print only the even numbers of rows of the dataframe 'df'.<br>\n",
    "Note: Don't include the row indexed zero."
   ]
  },
  {
   "cell_type": "code",
   "execution_count": 9,
   "metadata": {},
   "outputs": [
    {
     "name": "stdout",
     "output_type": "stream",
     "text": [
      "    X  Y month  day  FFMC    DMC     DC   ISI  temp  RH  wind  rain  area\n",
      "2   7  4   oct  sat  90.6   43.7  686.9   6.7  14.6  33   1.3   0.0   0.0\n",
      "4   8  6   mar  sun  89.3   51.3  102.2   9.6  11.4  99   1.8   0.0   0.0\n",
      "6   8  6   aug  mon  92.3   88.9  495.6   8.5  24.1  27   3.1   0.0   0.0\n",
      "8   8  6   sep  tue  91.0  129.5  692.6   7.0  13.1  63   5.4   0.0   0.0\n",
      "10  7  5   sep  sat  92.5   88.0  698.6   7.1  17.8  51   7.2   0.0   0.0\n",
      "12  6  5   aug  fri  63.5   70.8  665.3   0.8  17.0  72   6.7   0.0   0.0\n",
      "14  6  5   sep  wed  92.9  133.3  699.6   9.2  26.4  21   4.5   0.0   0.0\n",
      "16  5  5   mar  sat  91.7   35.8   80.8   7.8  15.1  27   5.4   0.0   0.0\n",
      "18  6  4   mar  wed  89.2   27.9   70.8   6.3  15.9  35   4.0   0.0   0.0\n",
      "20  6  4   sep  tue  91.0  129.5  692.6   7.0  18.3  40   2.7   0.0   0.0\n",
      "22  7  4   jun  sun  94.3   96.3  200.0  56.1  21.0  44   4.5   0.0   0.0\n",
      "24  7  4   aug  sat  93.5  139.4  594.2  20.3  23.7  32   5.8   0.0   0.0\n",
      "26  7  4   sep  fri  92.4  117.9  668.0  12.2  19.0  34   5.8   0.0   0.0\n",
      "28  6  3   sep  sat  93.4  145.4  721.4   8.1  30.2  24   2.7   0.0   0.0\n",
      "30  6  3   sep  fri  94.3   85.1  692.3  15.9  25.4  24   3.6   0.0   0.0\n",
      "32  6  3   sep  fri  88.6   69.7  706.8   5.8  20.6  37   1.8   0.0   0.0\n",
      "34  6  3   sep  mon  91.8   78.5  724.3   9.2  21.2  32   2.7   0.0   0.0\n",
      "36  6  3   oct  tue  90.6   35.4  669.1   6.7  21.7  24   4.5   0.0   0.0\n",
      "38  7  3   oct  sat  90.6   43.7  686.9   6.7  17.8  27   4.0   0.0   0.0\n",
      "40  4  4   jul  tue  79.5   60.6  366.7   1.5  23.3  37   3.1   0.0   0.0\n"
     ]
    }
   ],
   "source": [
    "import pandas as pd\n",
    "df = pd.read_csv('https://query.data.world/s/vBDCsoHCytUSLKkLvq851k2b8JOCkF')\n",
    "df_2 = df[2::2]\n",
    "print(df_2.head(20))"
   ]
  },
  {
   "cell_type": "markdown",
   "metadata": {},
   "source": [
    "### Selecting Columns of a Dataframe\n",
    "#### Description\n",
    "Print out the columns 'month', 'day', 'temp', 'area' from the dataframe 'df'."
   ]
  },
  {
   "cell_type": "code",
   "execution_count": 10,
   "metadata": {},
   "outputs": [
    {
     "name": "stdout",
     "output_type": "stream",
     "text": [
      "   month  day  temp  area\n",
      "0    mar  fri   8.2   0.0\n",
      "1    oct  tue  18.0   0.0\n",
      "2    oct  sat  14.6   0.0\n",
      "3    mar  fri   8.3   0.0\n",
      "4    mar  sun  11.4   0.0\n",
      "5    aug  sun  22.2   0.0\n",
      "6    aug  mon  24.1   0.0\n",
      "7    aug  mon   8.0   0.0\n",
      "8    sep  tue  13.1   0.0\n",
      "9    sep  sat  22.8   0.0\n",
      "10   sep  sat  17.8   0.0\n",
      "11   sep  sat  19.3   0.0\n",
      "12   aug  fri  17.0   0.0\n",
      "13   sep  mon  21.3   0.0\n",
      "14   sep  wed  26.4   0.0\n",
      "15   sep  fri  22.9   0.0\n",
      "16   mar  sat  15.1   0.0\n",
      "17   oct  mon  16.7   0.0\n",
      "18   mar  wed  15.9   0.0\n",
      "19   apr  sat   9.3   0.0\n"
     ]
    }
   ],
   "source": [
    "import pandas as pd\n",
    "df = pd.read_csv('https://query.data.world/s/vBDCsoHCytUSLKkLvq851k2b8JOCkF')\n",
    "df_2 = df[['month', 'day', 'temp', 'area']]\n",
    "print(df_2.head(20))"
   ]
  },
  {
   "cell_type": "markdown",
   "metadata": {},
   "source": [
    "### Dataframe iloc\n",
    "#### Description\n",
    "Using iloc index the dataframe to print all the rows of the columns at index 3,4,5.<br>\n",
    "Hint: Use 3,4,5 not 2,3,4"
   ]
  },
  {
   "cell_type": "code",
   "execution_count": 11,
   "metadata": {},
   "outputs": [
    {
     "name": "stdout",
     "output_type": "stream",
     "text": [
      "    day  FFMC    DMC\n",
      "0   fri  86.2   26.2\n",
      "1   tue  90.6   35.4\n",
      "2   sat  90.6   43.7\n",
      "3   fri  91.7   33.3\n",
      "4   sun  89.3   51.3\n",
      "5   sun  92.3   85.3\n",
      "6   mon  92.3   88.9\n",
      "7   mon  91.5  145.4\n",
      "8   tue  91.0  129.5\n",
      "9   sat  92.5   88.0\n",
      "10  sat  92.5   88.0\n",
      "11  sat  92.8   73.2\n",
      "12  fri  63.5   70.8\n",
      "13  mon  90.9  126.5\n",
      "14  wed  92.9  133.3\n",
      "15  fri  93.3  141.2\n",
      "16  sat  91.7   35.8\n",
      "17  mon  84.9   32.8\n",
      "18  wed  89.2   27.9\n",
      "19  sat  86.3   27.4\n"
     ]
    }
   ],
   "source": [
    "import pandas as pd\n",
    "df = pd.read_csv('https://query.data.world/s/vBDCsoHCytUSLKkLvq851k2b8JOCkF')\n",
    "df_2 = df.iloc[:, [3, 4, 5]]\n",
    "print(df_2.head(20))"
   ]
  },
  {
   "cell_type": "markdown",
   "metadata": {},
   "source": [
    "### Dataframes loc\n",
    "#### Description\n",
    "Using loc function print out all the columns and rows from 2 to 20 of the 'df' dataset."
   ]
  },
  {
   "cell_type": "code",
   "execution_count": 12,
   "metadata": {},
   "outputs": [
    {
     "name": "stdout",
     "output_type": "stream",
     "text": [
      "    X  Y month  day  FFMC    DMC     DC   ISI  temp  RH  wind  rain  area\n",
      "2   7  4   oct  sat  90.6   43.7  686.9   6.7  14.6  33   1.3   0.0   0.0\n",
      "3   8  6   mar  fri  91.7   33.3   77.5   9.0   8.3  97   4.0   0.2   0.0\n",
      "4   8  6   mar  sun  89.3   51.3  102.2   9.6  11.4  99   1.8   0.0   0.0\n",
      "5   8  6   aug  sun  92.3   85.3  488.0  14.7  22.2  29   5.4   0.0   0.0\n",
      "6   8  6   aug  mon  92.3   88.9  495.6   8.5  24.1  27   3.1   0.0   0.0\n",
      "7   8  6   aug  mon  91.5  145.4  608.2  10.7   8.0  86   2.2   0.0   0.0\n",
      "8   8  6   sep  tue  91.0  129.5  692.6   7.0  13.1  63   5.4   0.0   0.0\n",
      "9   7  5   sep  sat  92.5   88.0  698.6   7.1  22.8  40   4.0   0.0   0.0\n",
      "10  7  5   sep  sat  92.5   88.0  698.6   7.1  17.8  51   7.2   0.0   0.0\n",
      "11  7  5   sep  sat  92.8   73.2  713.0  22.6  19.3  38   4.0   0.0   0.0\n",
      "12  6  5   aug  fri  63.5   70.8  665.3   0.8  17.0  72   6.7   0.0   0.0\n",
      "13  6  5   sep  mon  90.9  126.5  686.5   7.0  21.3  42   2.2   0.0   0.0\n",
      "14  6  5   sep  wed  92.9  133.3  699.6   9.2  26.4  21   4.5   0.0   0.0\n",
      "15  6  5   sep  fri  93.3  141.2  713.9  13.9  22.9  44   5.4   0.0   0.0\n",
      "16  5  5   mar  sat  91.7   35.8   80.8   7.8  15.1  27   5.4   0.0   0.0\n",
      "17  8  5   oct  mon  84.9   32.8  664.2   3.0  16.7  47   4.9   0.0   0.0\n",
      "18  6  4   mar  wed  89.2   27.9   70.8   6.3  15.9  35   4.0   0.0   0.0\n",
      "19  6  4   apr  sat  86.3   27.4   97.1   5.1   9.3  44   4.5   0.0   0.0\n",
      "20  6  4   sep  tue  91.0  129.5  692.6   7.0  18.3  40   2.7   0.0   0.0\n"
     ]
    }
   ],
   "source": [
    "import pandas as pd\n",
    "df = pd.read_csv('https://query.data.world/s/vBDCsoHCytUSLKkLvq851k2b8JOCkF')\n",
    "df_2 = df.loc[2:20]\n",
    "print(df_2)"
   ]
  },
  {
   "cell_type": "markdown",
   "metadata": {},
   "source": [
    "### Applying Conditions on Dataframes\n",
    "#### Description\n",
    "Print all the columns and the rows where 'area' is greater than 0, 'wind' is greater than 1 and the 'temp' is greater than 15."
   ]
  },
  {
   "cell_type": "code",
   "execution_count": 13,
   "metadata": {},
   "outputs": [
    {
     "name": "stdout",
     "output_type": "stream",
     "text": [
      "     X  Y month  day  FFMC    DMC     DC   ISI  temp  RH  wind  rain  area\n",
      "138  9  9   jul  tue  85.8   48.3  313.4   3.9  18.0  42   2.7   0.0  0.36\n",
      "139  1  4   sep  tue  91.0  129.5  692.6   7.0  21.7  38   2.2   0.0  0.43\n",
      "140  2  5   sep  mon  90.9  126.5  686.5   7.0  21.9  39   1.8   0.0  0.47\n",
      "141  1  2   aug  wed  95.5   99.9  513.3  13.2  23.3  31   4.5   0.0  0.55\n",
      "142  8  6   aug  fri  90.1  108.0  529.8  12.5  21.2  51   8.9   0.0  0.61\n",
      "143  1  2   jul  sat  90.0   51.3  296.3   8.7  16.6  53   5.4   0.0  0.71\n",
      "144  2  5   aug  wed  95.5   99.9  513.3  13.2  23.8  32   5.4   0.0  0.77\n",
      "145  6  5   aug  thu  95.2  131.7  578.8  10.4  27.4  22   4.0   0.0  0.90\n",
      "147  8  3   sep  tue  84.4   73.4  671.9   3.2  24.2  28   3.6   0.0  0.96\n",
      "148  2  2   aug  tue  94.8  108.3  647.1  17.0  17.4  43   6.7   0.0  1.07\n",
      "149  8  6   sep  thu  93.7   80.9  685.2  17.9  23.7  25   4.5   0.0  1.12\n",
      "150  6  5   jun  fri  92.5   56.4  433.3   7.1  23.2  39   5.4   0.0  1.19\n",
      "151  9  9   jul  sun  90.1   68.6  355.2   7.2  24.8  29   2.2   0.0  1.36\n",
      "152  3  4   jul  sat  90.1   51.2  424.1   6.2  24.6  43   1.8   0.0  1.43\n",
      "153  5  4   sep  fri  94.3   85.1  692.3  15.9  20.1  47   4.9   0.0  1.46\n",
      "154  1  5   sep  sat  93.4  145.4  721.4   8.1  29.6  27   2.7   0.0  1.46\n",
      "155  7  4   aug  sun  94.8  108.3  647.1  17.0  16.4  47   1.3   0.0  1.56\n",
      "156  2  4   sep  sat  93.4  145.4  721.4   8.1  28.6  27   2.2   0.0  1.61\n",
      "157  2  2   aug  wed  92.1  111.2  654.1   9.6  18.4  45   3.6   0.0  1.63\n",
      "158  2  4   aug  wed  92.1  111.2  654.1   9.6  20.5  35   4.0   0.0  1.64\n"
     ]
    }
   ],
   "source": [
    "import pandas as pd\n",
    "df = pd.read_csv('https://query.data.world/s/vBDCsoHCytUSLKkLvq851k2b8JOCkF')\n",
    "df_2 =df.loc[(df.area > 0) & (df.wind > 1) & (df.temp > 15)]\n",
    "print(df_2.head(20))"
   ]
  },
  {
   "cell_type": "markdown",
   "metadata": {},
   "source": [
    "### Dataframes Merge\n",
    "#### Description\n",
    "Perform an inner merge on two data frames df_1 and df_2 on  'unique_id' and print the combined dataframe."
   ]
  },
  {
   "cell_type": "code",
   "execution_count": 14,
   "metadata": {},
   "outputs": [
    {
     "name": "stdout",
     "output_type": "stream",
     "text": [
      "                           name                     address              city  \\\n",
      "0     arnie morton's of chicago   \"435 s. la cienega blvd.\"     \"los angeles\"   \n",
      "1                    art's deli       \"12224 ventura blvd.\"     \"studio city\"   \n",
      "2                 bel-air hotel      \"701 stone canyon rd.\"         \"bel air\"   \n",
      "3                    cafe bizou       \"14016 ventura blvd.\"    \"sherman oaks\"   \n",
      "4                     campanile       \"624 s. la brea ave.\"     \"los angeles\"   \n",
      "5               chinois on main             \"2709 main st.\"    \"santa monica\"   \n",
      "6                        citrus         \"6703 melrose ave.\"     \"los angeles\"   \n",
      "7           fenix at the argyle         \"8358 sunset blvd.\"    \"w. hollywood\"   \n",
      "8                       granita       \"23725 w. malibu rd.\"          \"malibu\"   \n",
      "9                    grill  the           \"9560 dayton way\"   \"beverly hills\"   \n",
      "10                        katsu       \"1972 hillhurst ave.\"       \"los feliz\"   \n",
      "11                  l'orangerie   \"903 n. la cienega blvd.\"    \"w. hollywood\"   \n",
      "12  le chardonnay (los angeles)         \"8284 melrose ave.\"     \"los angeles\"   \n",
      "13               locanda veneta         \"8638 w. third st.\"     \"los angeles\"   \n",
      "14                    matsuhisa   \"129 n. la cienega blvd.\"   \"beverly hills\"   \n",
      "15      palm  the (los angeles)   \"9001 santa monica blvd.\"    \"w. hollywood\"   \n",
      "16                       patina         \"5955 melrose ave.\"     \"los angeles\"   \n",
      "17        philippe the original       \"1001 n. alameda st.\"       \"chinatown\"   \n",
      "18                 pinot bistro       \"12969 ventura blvd.\"     \"studio city\"   \n",
      "19            rex il ristorante          \"617 s. olive st.\"     \"los angeles\"   \n",
      "\n",
      "                      cuisine unique_id                     name_2  \\\n",
      "0               \"steakhouses\"       '0'  arnie morton's of chicago   \n",
      "1                     \"delis\"       '1'         art's delicatessen   \n",
      "2               \"californian\"       '2'              hotel bel-air   \n",
      "3             \"french bistro\"       '3'                 cafe bizou   \n",
      "4               \"californian\"       '4'                  campanile   \n",
      "5          \"pacific new wave\"       '5'            chinois on main   \n",
      "6               \"californian\"       '6'                     citrus   \n",
      "7              \"french (new)\"       '7'                      fenix   \n",
      "8               \"californian\"       '8'                    granita   \n",
      "9    \"american (traditional)\"       '9'         grill on the alley   \n",
      "10                 \"japanese\"      '10'           restaurant katsu   \n",
      "11         \"french (classic)\"      '11'                l'orangerie   \n",
      "12            \"french bistro\"      '12'              le chardonnay   \n",
      "13                  \"italian\"      '13'             locanda veneta   \n",
      "14                  \"seafood\"      '14'                  matsuhisa   \n",
      "15              \"steakhouses\"      '15'                   the palm   \n",
      "16              \"californian\"      '16'                     patina   \n",
      "17               \"cafeterias\"      '17'    philippe's the original   \n",
      "18            \"french bistro\"      '18'               pinot bistro   \n",
      "19     \"nuova cucina italian\"      '19'          rex il ristorante   \n",
      "\n",
      "                     address_2            city_2       cuisine_2  \n",
      "0     \"435 s. la cienega blv.\"     \"los angeles\"      \"american\"  \n",
      "1        \"12224 ventura blvd.\"     \"studio city\"      \"american\"  \n",
      "2       \"701 stone canyon rd.\"         \"bel air\"   \"californian\"  \n",
      "3        \"14016 ventura blvd.\"    \"sherman oaks\"        \"french\"  \n",
      "4        \"624 s. la brea ave.\"     \"los angeles\"      \"american\"  \n",
      "5              \"2709 main st.\"    \"santa monica\"        \"french\"  \n",
      "6          \"6703 melrose ave.\"     \"los angeles\"   \"californian\"  \n",
      "7     \"8358 sunset blvd. west\"       \"hollywood\"      \"american\"  \n",
      "8        \"23725 w. malibu rd.\"          \"malibu\"   \"californian\"  \n",
      "9            \"9560 dayton way\"     \"los angeles\"      \"american\"  \n",
      "10    \"1972 n. hillhurst ave.\"     \"los angeles\"         \"asian\"  \n",
      "11   \"903 n. la cienega blvd.\"     \"los angeles\"        \"french\"  \n",
      "12         \"8284 melrose ave.\"     \"los angeles\"        \"french\"  \n",
      "13                   \"3rd st.\"     \"los angeles\"       \"italian\"  \n",
      "14   \"129 n. la cienega blvd.\"   \"beverly hills\"         \"asian\"  \n",
      "15   \"9001 santa monica blvd.\"     \"los angeles\"      \"american\"  \n",
      "16         \"5955 melrose ave.\"     \"los angeles\"   \"californian\"  \n",
      "17       \"1001 n. alameda st.\"     \"los angeles\"      \"american\"  \n",
      "18       \"12969 ventura blvd.\"     \"los angeles\"        \"french\"  \n",
      "19          \"617 s. olive st.\"     \"los angeles\"       \"italian\"  \n"
     ]
    }
   ],
   "source": [
    "import pandas as pd\n",
    "df_1 = pd.read_csv('https://query.data.world/s/vv3snq28bp0TJq2ggCdxGOghEQKPZo')\n",
    "df_2 = pd.read_csv('https://query.data.world/s/9wVKjNT0yiRc3YbVJaiI8a6HGl2d74')\n",
    "df_3 = pd.merge(df_1, df_2, how='inner', on='unique_id')\n",
    "print(df_3.head(20))"
   ]
  },
  {
   "cell_type": "markdown",
   "metadata": {},
   "source": [
    "### Dataframe Append\n",
    "#### Description\n",
    "Append two datasets df_1 and df_2, and print the combined dataframe."
   ]
  },
  {
   "cell_type": "code",
   "execution_count": 15,
   "metadata": {},
   "outputs": [
    {
     "name": "stdout",
     "output_type": "stream",
     "text": [
      "                      address address_2             city city_2  \\\n",
      "0   \"435 s. la cienega blvd.\"       NaN    \"los angeles\"    NaN   \n",
      "1       \"12224 ventura blvd.\"       NaN    \"studio city\"    NaN   \n",
      "2      \"701 stone canyon rd.\"       NaN        \"bel air\"    NaN   \n",
      "3       \"14016 ventura blvd.\"       NaN   \"sherman oaks\"    NaN   \n",
      "4       \"624 s. la brea ave.\"       NaN    \"los angeles\"    NaN   \n",
      "\n",
      "            cuisine cuisine_2                       name name_2 unique_id  \n",
      "0     \"steakhouses\"       NaN  arnie morton's of chicago    NaN       '0'  \n",
      "1           \"delis\"       NaN                 art's deli    NaN       '1'  \n",
      "2     \"californian\"       NaN              bel-air hotel    NaN       '2'  \n",
      "3   \"french bistro\"       NaN                 cafe bizou    NaN       '3'  \n",
      "4     \"californian\"       NaN                  campanile    NaN       '4'  \n"
     ]
    }
   ],
   "source": [
    "import warnings\n",
    "warnings.filterwarnings('ignore')\n",
    "import pandas as pd\n",
    "\n",
    "df_1 = pd.read_csv('https://query.data.world/s/vv3snq28bp0TJq2ggCdxGOghEQKPZo')\n",
    "df_2 = pd.read_csv('https://query.data.world/s/9wVKjNT0yiRc3YbVJaiI8a6HGl2d74')\n",
    "df_3 =df_1.append(df_2)\n",
    "print(df_3.head())"
   ]
  },
  {
   "cell_type": "markdown",
   "metadata": {},
   "source": [
    "### Operations on multiple dataframes\n",
    "#### Description\n",
    "Given three data frames containing the number of gold, silver, and bronze Olympic medals won by some countries, determine the total number of medals won by each country. <br>\n",
    "Note: All the three data frames don’t have all the same countries. So, ensure you use the ‘fill_value’ argument (set it to zero), to avoid getting NaN values. Also, ensure you sort the final dataframe, according to the total medal count in descending order.<br>"
   ]
  },
  {
   "cell_type": "code",
   "execution_count": 17,
   "metadata": {
    "scrolled": false
   },
   "outputs": [
    {
     "name": "stdout",
     "output_type": "stream",
     "text": [
      "         Medals\n",
      "Country        \n",
      "USA        72.0\n",
      "France     53.0\n",
      "UK         27.0\n",
      "Russia     25.0\n",
      "Germany    20.0\n"
     ]
    }
   ],
   "source": [
    "import pandas as pd\n",
    "\n",
    "gold = pd.DataFrame({'Country': ['USA', 'France', 'Russia'],\n",
    "                     'Medals': [15, 13, 9]}\n",
    "                    ).set_index('Country')\n",
    "silver = pd.DataFrame({'Country': ['USA', 'Germany', 'Russia'],\n",
    "                       'Medals': [29, 20, 16]}\n",
    "                      ).set_index('Country')\n",
    "bronze = pd.DataFrame({'Country': ['France', 'USA', 'UK'],\n",
    "                       'Medals': [40, 28, 27]}\n",
    "                      ).set_index('Country')\n",
    "\n",
    "result = gold.add(silver, fill_value=0).add(bronze, fill_value=0).sort_values(by=['Medals'], ascending=False)\n",
    "\n",
    "print(result)"
   ]
  },
  {
   "cell_type": "markdown",
   "metadata": {},
   "source": [
    "### Dataframe grouping\n",
    "#### Description\n",
    "Group the data 'df' by 'month' and 'day' and find the mean value for column 'rain' and 'wind'."
   ]
  },
  {
   "cell_type": "code",
   "execution_count": 20,
   "metadata": {},
   "outputs": [
    {
     "name": "stdout",
     "output_type": "stream",
     "text": [
      "               rain      wind\n",
      "month day                    \n",
      "apr   fri  0.000000  3.100000\n",
      "      mon  0.000000  3.100000\n",
      "      sat  0.000000  4.500000\n",
      "      sun  0.000000  5.666667\n",
      "      thu  0.000000  5.800000\n",
      "      wed  0.000000  2.700000\n",
      "aug   fri  0.066667  4.766667\n",
      "      mon  0.000000  2.873333\n",
      "      sat  0.000000  4.310345\n",
      "      sun  0.025000  4.417500\n",
      "      thu  0.000000  3.503846\n",
      "      tue  0.300000  4.567857\n",
      "      wed  0.000000  3.520000\n",
      "dec   fri  0.000000  4.900000\n",
      "      mon  0.000000  8.500000\n",
      "      sun  0.000000  8.500000\n",
      "      thu  0.000000  4.900000\n",
      "      tue  0.000000  8.500000\n",
      "      wed  0.000000  8.000000\n",
      "feb   fri  0.000000  4.820000\n"
     ]
    }
   ],
   "source": [
    "import pandas as pd\n",
    "\n",
    "df = pd.read_csv('https://query.data.world/s/vBDCsoHCytUSLKkLvq851k2b8JOCkF')\n",
    "\n",
    "df_1 = df.groupby(['month', 'day'])['rain', 'wind'].mean()\n",
    "print(df_1.head(20))"
   ]
  },
  {
   "cell_type": "markdown",
   "metadata": {},
   "source": [
    "### Creating New Column in a Dataframe\n",
    "#### Description\n",
    "Create a new column 'XY' which consist of values obtained from multiplying column 'X' and column 'Y'."
   ]
  },
  {
   "cell_type": "code",
   "execution_count": 21,
   "metadata": {},
   "outputs": [
    {
     "name": "stdout",
     "output_type": "stream",
     "text": [
      "    X  Y month  day  FFMC    DMC     DC   ISI  temp  RH  wind  rain  area  XY\n",
      "0   7  5   mar  fri  86.2   26.2   94.3   5.1   8.2  51   6.7   0.0   0.0  35\n",
      "1   7  4   oct  tue  90.6   35.4  669.1   6.7  18.0  33   0.9   0.0   0.0  28\n",
      "2   7  4   oct  sat  90.6   43.7  686.9   6.7  14.6  33   1.3   0.0   0.0  28\n",
      "3   8  6   mar  fri  91.7   33.3   77.5   9.0   8.3  97   4.0   0.2   0.0  48\n",
      "4   8  6   mar  sun  89.3   51.3  102.2   9.6  11.4  99   1.8   0.0   0.0  48\n",
      "5   8  6   aug  sun  92.3   85.3  488.0  14.7  22.2  29   5.4   0.0   0.0  48\n",
      "6   8  6   aug  mon  92.3   88.9  495.6   8.5  24.1  27   3.1   0.0   0.0  48\n",
      "7   8  6   aug  mon  91.5  145.4  608.2  10.7   8.0  86   2.2   0.0   0.0  48\n",
      "8   8  6   sep  tue  91.0  129.5  692.6   7.0  13.1  63   5.4   0.0   0.0  48\n",
      "9   7  5   sep  sat  92.5   88.0  698.6   7.1  22.8  40   4.0   0.0   0.0  35\n",
      "10  7  5   sep  sat  92.5   88.0  698.6   7.1  17.8  51   7.2   0.0   0.0  35\n",
      "11  7  5   sep  sat  92.8   73.2  713.0  22.6  19.3  38   4.0   0.0   0.0  35\n",
      "12  6  5   aug  fri  63.5   70.8  665.3   0.8  17.0  72   6.7   0.0   0.0  30\n",
      "13  6  5   sep  mon  90.9  126.5  686.5   7.0  21.3  42   2.2   0.0   0.0  30\n",
      "14  6  5   sep  wed  92.9  133.3  699.6   9.2  26.4  21   4.5   0.0   0.0  30\n",
      "15  6  5   sep  fri  93.3  141.2  713.9  13.9  22.9  44   5.4   0.0   0.0  30\n",
      "16  5  5   mar  sat  91.7   35.8   80.8   7.8  15.1  27   5.4   0.0   0.0  25\n",
      "17  8  5   oct  mon  84.9   32.8  664.2   3.0  16.7  47   4.9   0.0   0.0  40\n",
      "18  6  4   mar  wed  89.2   27.9   70.8   6.3  15.9  35   4.0   0.0   0.0  24\n",
      "19  6  4   apr  sat  86.3   27.4   97.1   5.1   9.3  44   4.5   0.0   0.0  24\n"
     ]
    }
   ],
   "source": [
    "import pandas as pd\n",
    "\n",
    "df = pd.read_csv('https://query.data.world/s/vBDCsoHCytUSLKkLvq851k2b8JOCkF')\n",
    "df['XY'] = df['X'] * df['Y']\n",
    "print(df.head(20))"
   ]
  },
  {
   "cell_type": "markdown",
   "metadata": {},
   "source": [
    "### Dataframe Pivot Table\n",
    "#### Description\n",
    "Group the data 'df' by 'month' and 'day' and find the mean value for column 'rain' and 'wind' using the pivot table command."
   ]
  },
  {
   "cell_type": "code",
   "execution_count": 22,
   "metadata": {},
   "outputs": [
    {
     "name": "stdout",
     "output_type": "stream",
     "text": [
      "               rain      wind\n",
      "month day                    \n",
      "apr   fri  0.000000  3.100000\n",
      "      mon  0.000000  3.100000\n",
      "      sat  0.000000  4.500000\n",
      "      sun  0.000000  5.666667\n",
      "      thu  0.000000  5.800000\n",
      "      wed  0.000000  2.700000\n",
      "aug   fri  0.066667  4.766667\n",
      "      mon  0.000000  2.873333\n",
      "      sat  0.000000  4.310345\n",
      "      sun  0.025000  4.417500\n",
      "      thu  0.000000  3.503846\n",
      "      tue  0.300000  4.567857\n",
      "      wed  0.000000  3.520000\n",
      "dec   fri  0.000000  4.900000\n",
      "      mon  0.000000  8.500000\n",
      "      sun  0.000000  8.500000\n",
      "      thu  0.000000  4.900000\n",
      "      tue  0.000000  8.500000\n",
      "      wed  0.000000  8.000000\n",
      "feb   fri  0.000000  4.820000\n"
     ]
    }
   ],
   "source": [
    "import pandas as pd\n",
    "\n",
    "df = pd.read_csv('https://query.data.world/s/vBDCsoHCytUSLKkLvq851k2b8JOCkF')\n",
    "df_1 = df.pivot_table(values=['rain', 'wind'],\n",
    "                      index=['month', 'day'],\n",
    "                      aggfunc='mean')\n",
    "print(df_1.head(20))"
   ]
  },
  {
   "cell_type": "code",
   "execution_count": null,
   "metadata": {},
   "outputs": [],
   "source": []
  }
 ],
 "metadata": {
  "kernelspec": {
   "display_name": "Python 3",
   "language": "python",
   "name": "python3"
  },
  "language_info": {
   "codemirror_mode": {
    "name": "ipython",
    "version": 3
   },
   "file_extension": ".py",
   "mimetype": "text/x-python",
   "name": "python",
   "nbconvert_exporter": "python",
   "pygments_lexer": "ipython3",
   "version": "3.7.3"
  }
 },
 "nbformat": 4,
 "nbformat_minor": 2
}
