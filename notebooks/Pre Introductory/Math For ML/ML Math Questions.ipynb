{
 "cells": [
  {
   "cell_type": "markdown",
   "metadata": {},
   "source": [
    "### Calculating Dot Product\n",
    "#### Description\n",
    "Let's look at some code. Find the dot product between the following two vectors:<br>\n",
    "a = (3, 4, 5)<br>\n",
    "b = (1, 3, 5)<br>\n",
    "\n",
    "We've pre-written the code needed to calculate the dot product. You just need to type in these vectors (inside the square bracket), and hit Run.\n",
    "\n",
    "Also, calculate this value by hand. Does the output of the code match your value?"
   ]
  },
  {
   "cell_type": "code",
   "execution_count": 1,
   "metadata": {},
   "outputs": [
    {
     "name": "stdout",
     "output_type": "stream",
     "text": [
      "40\n"
     ]
    }
   ],
   "source": [
    "import numpy as np\n",
    "\n",
    "a = np.array([3, 4, 5])\n",
    "b = np.array([1, 3, 5])\n",
    "\n",
    "print(np.dot(a, b))"
   ]
  },
  {
   "cell_type": "markdown",
   "metadata": {},
   "source": [
    "#### Angle Between Emails\n",
    "The frequency table of words in four sample emails is shown below. The angle between emails 1 and 2 is (the first two rows):\n",
    "\n",
    "\n",
    "| money\t| hurry\t| meeting\t| powerpoint |\n",
    "|-------|-------|-----------|------------|\n",
    "| 2\t    | 1\t    | 0\t        | 0          |\n",
    "| 0     | 0\t    | 1\t        | 1          |\n",
    "| 1\t    | 1\t    | 0\t        | 0          |\n",
    "| 1\t    | 1\t    | 1\t        | 0          |"
   ]
  },
  {
   "cell_type": "code",
   "execution_count": 4,
   "metadata": {},
   "outputs": [
    {
     "name": "stdout",
     "output_type": "stream",
     "text": [
      "90.0\n"
     ]
    }
   ],
   "source": [
    "import math\n",
    "import numpy as np\n",
    "\n",
    "pi = math.pi\n",
    "v1 = np.array([2,1,0,0])\n",
    "v2 = np.array([0,0,1,1])\n",
    "v3 = np.array([1,1,0,0])\n",
    "v4 = np.array([1,1,1,0])\n",
    "print(np.arccos(0/(np.sqrt(5)*np.sqrt(2)))*(180/pi))"
   ]
  },
  {
   "cell_type": "markdown",
   "metadata": {},
   "source": [
    "### Angle Between Emails\n",
    "The frequency table of words in four sample emails is shown above. <br>\n",
    "You want to know whether email number 4 (the last row) is more similar to email 1 or email 3. <br>\n",
    "Choose all the correct options.<br>"
   ]
  },
  {
   "cell_type": "code",
   "execution_count": 6,
   "metadata": {},
   "outputs": [
    {
     "name": "stdout",
     "output_type": "stream",
     "text": [
      "v1 - v3 = \n",
      "18.434948822922017\n",
      "v1 - v4 = \n",
      "39.231520483592256\n"
     ]
    }
   ],
   "source": [
    "print(\"v1 - v3 = \")\n",
    "print(np.arccos(3/(np.sqrt(5)*np.sqrt(2)))*(180/pi))\n",
    "print(\"v1 - v4 = \")\n",
    "print(np.arccos(3/(np.sqrt(5)*np.sqrt(3)))*(180/pi))"
   ]
  },
  {
   "cell_type": "code",
   "execution_count": null,
   "metadata": {},
   "outputs": [],
   "source": []
  }
 ],
 "metadata": {
  "kernelspec": {
   "display_name": "Python 3",
   "language": "python",
   "name": "python3"
  },
  "language_info": {
   "codemirror_mode": {
    "name": "ipython",
    "version": 3
   },
   "file_extension": ".py",
   "mimetype": "text/x-python",
   "name": "python",
   "nbconvert_exporter": "python",
   "pygments_lexer": "ipython3",
   "version": "3.7.3"
  }
 },
 "nbformat": 4,
 "nbformat_minor": 2
}
